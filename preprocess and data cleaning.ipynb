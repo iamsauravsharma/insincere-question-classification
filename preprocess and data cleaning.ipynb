{
  "nbformat": 4,
  "nbformat_minor": 0,
  "metadata": {
    "colab": {
      "name": "Untitled10.ipynb",
      "version": "0.3.2",
      "provenance": [],
      "include_colab_link": true
    },
    "kernelspec": {
      "name": "python3",
      "display_name": "Python 3"
    },
    "accelerator": "GPU"
  },
  "cells": [
    {
      "cell_type": "markdown",
      "metadata": {
        "id": "view-in-github",
        "colab_type": "text"
      },
      "source": [
        "<a href=\"https://colab.research.google.com/github/iamsauravsharma/insincere-question-classification/blob/bishal/preprocess%20and%20data%20cleaning.ipynb\" target=\"_parent\"><img src=\"https://colab.research.google.com/assets/colab-badge.svg\" alt=\"Open In Colab\"/></a>"
      ]
    },
    {
      "cell_type": "code",
      "metadata": {
        "id": "KnTvMlBFg85_",
        "colab_type": "code",
        "colab": {
          "resources": {
            "http://localhost:8080/nbextensions/google.colab/files.js": {
              "data": "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",
              "ok": true,
              "headers": [
                [
                  "content-type",
                  "application/javascript"
                ]
              ],
              "status": 200,
              "status_text": ""
            }
          },
          "base_uri": "https://localhost:8080/",
          "height": 278
        },
        "outputId": "567a3b57-5e74-4a56-df80-ea81f04a7ac4"
      },
      "source": [
        "!pip install kaggle\n",
        "from google.colab import files\n",
        "files.upload()"
      ],
      "execution_count": 1,
      "outputs": [
        {
          "output_type": "stream",
          "text": [
            "Requirement already satisfied: kaggle in /usr/local/lib/python3.6/dist-packages (1.5.4)\n",
            "Requirement already satisfied: certifi in /usr/local/lib/python3.6/dist-packages (from kaggle) (2019.3.9)\n",
            "Requirement already satisfied: requests in /usr/local/lib/python3.6/dist-packages (from kaggle) (2.21.0)\n",
            "Requirement already satisfied: six>=1.10 in /usr/local/lib/python3.6/dist-packages (from kaggle) (1.12.0)\n",
            "Requirement already satisfied: urllib3<1.25,>=1.21.1 in /usr/local/lib/python3.6/dist-packages (from kaggle) (1.24.3)\n",
            "Requirement already satisfied: tqdm in /usr/local/lib/python3.6/dist-packages (from kaggle) (4.28.1)\n",
            "Requirement already satisfied: python-slugify in /usr/local/lib/python3.6/dist-packages (from kaggle) (3.0.2)\n",
            "Requirement already satisfied: python-dateutil in /usr/local/lib/python3.6/dist-packages (from kaggle) (2.5.3)\n",
            "Requirement already satisfied: idna<2.9,>=2.5 in /usr/local/lib/python3.6/dist-packages (from requests->kaggle) (2.8)\n",
            "Requirement already satisfied: chardet<3.1.0,>=3.0.2 in /usr/local/lib/python3.6/dist-packages (from requests->kaggle) (3.0.4)\n",
            "Requirement already satisfied: text-unidecode==1.2 in /usr/local/lib/python3.6/dist-packages (from python-slugify->kaggle) (1.2)\n"
          ],
          "name": "stdout"
        },
        {
          "output_type": "display_data",
          "data": {
            "text/html": [
              "\n",
              "     <input type=\"file\" id=\"files-9903aeeb-4fd8-49ab-b1d1-366ab3904c06\" name=\"files[]\" multiple disabled />\n",
              "     <output id=\"result-9903aeeb-4fd8-49ab-b1d1-366ab3904c06\">\n",
              "      Upload widget is only available when the cell has been executed in the\n",
              "      current browser session. Please rerun this cell to enable.\n",
              "      </output>\n",
              "      <script src=\"/nbextensions/google.colab/files.js\"></script> "
            ],
            "text/plain": [
              "<IPython.core.display.HTML object>"
            ]
          },
          "metadata": {
            "tags": []
          }
        },
        {
          "output_type": "stream",
          "text": [
            "Saving kaggle.json to kaggle (2).json\n"
          ],
          "name": "stdout"
        },
        {
          "output_type": "execute_result",
          "data": {
            "text/plain": [
              "{'kaggle.json': b'{\"username\":\"bishalgaire360\",\"key\":\"69b39489849cd899eaa93339bad30cdb\"}'}"
            ]
          },
          "metadata": {
            "tags": []
          },
          "execution_count": 1
        }
      ]
    },
    {
      "cell_type": "code",
      "metadata": {
        "id": "rPzXVMTLhBAZ",
        "colab_type": "code",
        "colab": {
          "base_uri": "https://localhost:8080/",
          "height": 136
        },
        "outputId": "2783e519-408b-4bba-df90-f8215e7587d1"
      },
      "source": [
        "!mkdir -p ~/.kaggle\n",
        "!cp kaggle.json ~/.kaggle/\n",
        "!chmod 600 ~/.kaggle/kaggle.json\n",
        "!kaggle competitions download -c quora-insincere-questions-classification\n",
        "from zipfile import ZipFile\n",
        "file_name=\"train.csv.zip\"\n",
        "#file_name=\"embeddings.zip\"\n",
        "with ZipFile(file_name,'r') as zip:\n",
        "    zip.extractall()\n",
        "    print('Done')\n",
        "file_name=\"embeddings.zip\"\n",
        "with ZipFile(file_name,'r') as zip:\n",
        "    zip.extractall()\n",
        "    print('Done')\n",
        "import pandas as pd\n",
        "from tqdm import tqdm\n",
        "tqdm.pandas()\n",
        "df=pd.read_csv('train.csv')\n",
        "from tqdm import tqdm_notebook\n",
        "import numpy as np\n",
        "emb_file = \"glove.840B.300d/glove.840B.300d.txt\"\n",
        "#emb_file =\"GoogleNews-vectors-negative300/GoogleNews-vectors-negative300.bin\"\n",
        "glove_dic = {}\n",
        "for line in tqdm_notebook(open(emb_file)):\n",
        "    temp = line.split(\" \")\n",
        "    glove_dic[temp[0]] = np.asarray(temp[1:],dtype='float32')\n",
        "\n",
        "del df['qid']\n",
        "\n"
      ],
      "execution_count": 2,
      "outputs": [
        {
          "output_type": "stream",
          "text": [
            "train.csv.zip: Skipping, found more recently modified local copy (use --force to force download)\n",
            "embeddings.zip: Skipping, found more recently modified local copy (use --force to force download)\n",
            "sample_submission.csv.zip: Skipping, found more recently modified local copy (use --force to force download)\n",
            "test.csv.zip: Skipping, found more recently modified local copy (use --force to force download)\n",
            "Done\n",
            "Done\n"
          ],
          "name": "stdout"
        },
        {
          "output_type": "display_data",
          "data": {
            "application/vnd.jupyter.widget-view+json": {
              "model_id": "24ee32d08a1547c7bc1df2d4796aa54b",
              "version_minor": 0,
              "version_major": 2
            },
            "text/plain": [
              "HBox(children=(IntProgress(value=1, bar_style='info', max=1), HTML(value='')))"
            ]
          },
          "metadata": {
            "tags": []
          }
        },
        {
          "output_type": "stream",
          "text": [
            "\n"
          ],
          "name": "stdout"
        }
      ]
    },
    {
      "cell_type": "code",
      "metadata": {
        "id": "KHEokKS3hJ_W",
        "colab_type": "code",
        "colab": {
          "base_uri": "https://localhost:8080/",
          "height": 34
        },
        "outputId": "3fec797f-c89e-437d-f5a5-b93cd355473f"
      },
      "source": [
        "def clean_text(x):\n",
        "\n",
        "    x = str(x)\n",
        "    for punct in \"/-'\":\n",
        "        x = x.replace(punct, ' ')\n",
        "    for punct in '&':\n",
        "        x = x.replace(punct, f' {punct} ')\n",
        "    for punct in '?!.,\"#$%\\'()+-/:;<=>@[\\\\]^_`{|}~' + '“”’':\n",
        "    #for punct in '?':\n",
        "        x = x.replace(punct, '')\n",
        "    return x\n",
        "df[\"question_text\"] = df[\"question_text\"].progress_apply(lambda x: clean_text(x))"
      ],
      "execution_count": 3,
      "outputs": [
        {
          "output_type": "stream",
          "text": [
            "100%|██████████| 1306122/1306122 [00:12<00:00, 102676.61it/s]\n"
          ],
          "name": "stderr"
        }
      ]
    },
    {
      "cell_type": "code",
      "metadata": {
        "id": "B1farOE_hQkW",
        "colab_type": "code",
        "colab": {}
      },
      "source": [
        "import re\n",
        "def clean_misspell(text):\n",
        "    \"\"\"\n",
        "    misspell list (quora vs. glove)\n",
        "    \"\"\"\n",
        "    misspell_to_sub = {\n",
        "        '(T|t)erroristan': 'terrorist Pakistan',\n",
        "        'BIMARU': 'Bihar, Madhya Pradesh, Rajasthan, Uttar Pradesh',\n",
        "        '(H|h)induphobic': 'Hindu phobic',\n",
        "        '(H|h)induphobia': 'Hindu phobic',\n",
        "        'Babchenko': 'Arkady Arkadyevich Babchenko faked death',\n",
        "        'Boshniaks': 'Bosniaks',\n",
        "        'Dravidanadu': 'Dravida Nadu',\n",
        "        'mysoginists': 'misogynists',\n",
        "        'MGTOWS': 'Men Going Their Own Way',\n",
        "        'mongloid': 'Mongoloid',\n",
        "        'unsincere': 'insincere',\n",
        "        'meninism': 'male feminism',\n",
        "        'jewplicate': 'jewish replicate',\n",
        "        'unoin': 'Union',\n",
        "        'daesh': 'Islamic State of Iraq and the Levant',\n",
        "        'Kalergi': 'Coudenhove-Kalergi',\n",
        "        ' apist': ' Ape',\n",
        "        '(B|b)hakts': 'Bhakt',\n",
        "        'Tambrahms': 'Tamil Brahmin',\n",
        "        'Pahul': 'Amrit Sanskar',\n",
        "        'SJW(s|)': 'social justice warrior',\n",
        "        'incel(s|)': 'involuntary celibates',\n",
        "        'emiratis': 'Emiratis',\n",
        "        'weatern': 'western',\n",
        "        'Pizzagate': 'Pizzagate conspiracy theory',\n",
        "        'naïve': 'naive',\n",
        "        'Skripal': 'Sergei Skripal',\n",
        "        '(R|r)emainers': 'remainer',\n",
        "        'antibrahmin': 'anti Brahminism',\n",
        "        'HYPSM': ' Harvard, Yale, Princeton, Stanford, MIT',\n",
        "        'HYPS': ' Harvard, Yale, Princeton, Stanford',\n",
        "        'kompromat': 'compromising material',\n",
        "        '(T|t)harki': 'pervert',\n",
        "        'mastuburate': 'masturbate',\n",
        "        'Zoë': 'Zoe',\n",
        "        'indans': 'Indian',\n",
        "        'xender': 'gender',\n",
        "        'Naxali': 'Naxalite',\n",
        "        'Bathla': 'Namit Bathla',\n",
        "        'Mewani': 'Indian politician Jignesh Mevani',\n",
        "        'clichéd': 'cliché',\n",
        "        'cliché(s|)': 'cliché',\n",
        "        'Wjy': 'Why',\n",
        "        'Fadnavis': 'Indian politician Devendra Fadnavis',\n",
        "        'Awadesh': 'Indian engineer Awdhesh Singh',\n",
        "        'Awdhesh': 'Indian engineer Awdhesh Singh',\n",
        "        'Khalistanis': 'Sikh separatist movement',\n",
        "        'madheshi': 'Madheshi',\n",
        "        'Quorans': 'Quoran',\n",
        "        'BNBR': 'Be Nice, Be Respectful',\n",
        "        'Bolsonaro': 'Jair Bolsonaro',\n",
        "        'XXXTentacion': 'Tentacion',\n",
        "        'Padmavat': 'Indian Movie Padmaavat',\n",
        "        'Žižek': 'Slovenian philosopher Slavoj Žižek',\n",
        "        'Adityanath': 'Indian monk Yogi Adityanath',\n",
        "        '(B|b)rexit': 'British Exit',\n",
        "        'jallikattu': 'Jallikattu',\n",
        "        'fortnite': 'Fortnite',\n",
        "        'Swachh': 'Swachh Bharat mission campaign',\n",
        "        'Qoura': 'Quora',\n",
        "        'narcissit': 'narcissist',\n",
        "        # extra in sample\n",
        "        'Doklam': 'Tibet',\n",
        "        'Drumpf': 'Donald Trump',\n",
        "        'Strzok': 'Hillary Clinton scandal',\n",
        "        'rohingya': 'Rohingya',\n",
        "        'wumao': 'offensive Chinese',\n",
        "        'Sanghis': 'Sanghi',\n",
        "        'Tamilans': 'Tamils',\n",
        "        'biharis': 'Biharis',\n",
        "        'Rejuvalex': 'hair growth formula',\n",
        "        'Feku': 'The Man of India',\n",
        "        'deplorables': 'deplorable',\n",
        "        'muhajirs': 'Muslim immigrants',\n",
        "        'Brexiters': 'British Exit supporters',\n",
        "        'Brexiteers': 'British Exit supporters',\n",
        "        'Brexiting': 'British Exit',\n",
        "        'Gujratis': 'Gujarati',\n",
        "        'Chutiya': 'Tibet people',\n",
        "        'thighing': 'masturbate',\n",
        "        '卐': 'Nazi Germany',\n",
        "        'rohingyas': 'Muslim ethnic group',\n",
        "        'Pribumi': 'Native Indonesians',\n",
        "        'Gurmehar': 'Gurmehar Kaur Indian student activist',\n",
        "        'Novichok': 'Soviet Union agents',\n",
        "        'Khazari': 'Khazars',\n",
        "        'Demonetization': 'demonetization',\n",
        "        'demonetisation': 'demonetization',\n",
        "        'cryptocurrencies': 'bitcoin',\n",
        "        'Hindians': 'offensive Indian',\n",
        "        'vaxxers': 'vocal nationalists',\n",
        "        'remoaners': 'remainer',\n",
        "        'Jewism': 'Judaism',\n",
        "        'Eroupian': 'European',\n",
        "        'WMAF': 'White male Asian female',\n",
        "        'moeslim': 'Muslim',\n",
        "        'cishet': 'cisgender and heterosexual person',\n",
        "        'Eurocentrics': 'Eurocentrism',\n",
        "        'Jewdar': 'Jew dar',\n",
        "        'Asifas': 'abduction, rape, murder case',\n",
        "        'marathis': 'Marathi',\n",
        "        'Trumpanzees': 'Trump chimpanzee',\n",
        "        'quoras': 'Quora',\n",
        "        'Crimeans': 'Crimea people',\n",
        "        'atrracted': 'attract',\n",
        "        'LGBT': 'lesbian, gay, bisexual, transgender',\n",
        "        'Boshniaks': 'Bosniaks',\n",
        "        'Myeshia': 'widow of Green Beret killed in Niger',\n",
        "        'demcoratic': 'Democratic',\n",
        "        'raaping': 'rape',\n",
        "        'Dönmeh': 'Islam',\n",
        "        'feminazism': 'feminism nazi',\n",
        "        'Quroa': 'Quora',\n",
        "        'QUORA': 'Quora',\n",
        "        'langague': 'language',\n",
        "        '(H|h)ongkongese': 'HongKong people',\n",
        "        '(K|k)ashmirians': 'Kashmirian',\n",
        "        '(C|c)hodu': 'fucker',\n",
        "        'penish': 'penis',\n",
        "        'micropenis': 'small penis',\n",
        "        'Madridiots': 'Madrid idiot',\n",
        "        'Ambedkarites': 'Dalit Buddhist movement',\n",
        "        'ReleaseTheMemo': 'cry for the right and Trump supporters',\n",
        "        'harrase': 'harass',\n",
        "        '(B|b)arracoon': 'Black slave',\n",
        "        '(C|c)astrater': 'castration',\n",
        "        '(R|r)apistan': 'rapist Pakistan',\n",
        "        '(T|t)urkified': 'Turkification',\n",
        "        'Dumbassistan': 'dumb ass Pakistan',\n",
        "        'facetards': 'Facebook retards',\n",
        "        'rapefugees': 'rapist refugee',\n",
        "        'superficious': 'superficial',\n",
        "        # extra from kagglers\n",
        "        'colour': 'color',\n",
        "        'centre': 'center',\n",
        "        'favourite': 'favorite',\n",
        "        'travelling': 'traveling',\n",
        "        'counselling': 'counseling',\n",
        "        'theatre': 'theater',\n",
        "        'cancelled': 'canceled',\n",
        "        'labour': 'labor',\n",
        "        'organisation': 'organization',\n",
        "        'wwii': 'world war 2',\n",
        "        'citicise': 'criticize',\n",
        "        'youtu ': 'youtube ',\n",
        "        'Qoura': 'Quora',\n",
        "        'sallary': 'salary',\n",
        "        'Whta': 'What',\n",
        "        'narcisist': 'narcissist',\n",
        "        'narcissit': 'narcissist',\n",
        "        'howdo': 'how do',\n",
        "        'whatare': 'what are',\n",
        "        'howcan': 'how can',\n",
        "        'howmuch': 'how much',\n",
        "        'howmany': 'how many',\n",
        "        'whydo': 'why do',\n",
        "        'doI': 'do I',\n",
        "        'theBest': 'the best',\n",
        "        'howdoes': 'how does',\n",
        "        'mastrubation': 'masturbation',\n",
        "        'mastrubate': 'masturbate',\n",
        "        'mastrubating': 'masturbating',\n",
        "        'pennis': 'penis',\n",
        "        'Etherium': 'Ethereum',\n",
        "        'bigdata': 'big data',\n",
        "        '2k17': '2017',\n",
        "        '2k18': '2018',\n",
        "        'qouta': 'quota',\n",
        "        'exboyfriend': 'ex boyfriend',\n",
        "        'airhostess': 'air hostess',\n",
        "        'whst': 'what',\n",
        "        'watsapp': 'whatsapp',\n",
        "        'demonitisation': 'demonetization',\n",
        "        'demonitization': 'demonetization',\n",
        "        'demonetisation': 'demonetization'\n",
        "    }\n",
        "    misspell_re = re.compile('(%s)' % '|'.join(misspell_to_sub.keys()))\n",
        "\n",
        "    def _replace(match):\n",
        "        \n",
        "        \"\"\"\n",
        "        reference: https://www.kaggle.com/hengzheng/attention-capsule-why-not-both-lb-0-694 # noqa\n",
        "        \"\"\"\n",
        "        return misspell_to_sub.get(match.group(0), match.group(0))\n",
        "    return misspell_re.sub(_replace, text)\n"
      ],
      "execution_count": 0,
      "outputs": []
    },
    {
      "cell_type": "code",
      "metadata": {
        "id": "A8J0DSU6kOeG",
        "colab_type": "code",
        "colab": {}
      },
      "source": [
        "import string\n",
        "def spacing_misspell(text):\n",
        "    \"\"\"\n",
        "    'deadbody' -> 'dead body'\n",
        "    \"\"\"\n",
        "    misspell_list = [\n",
        "        'body',\n",
        "        '(D|d)ead',\n",
        "        '(N|n)orth',\n",
        "        '(K|k)orea',\n",
        "        'matrix',\n",
        "        '(S|s)hit',\n",
        "        '(F|f)uck',\n",
        "        '(F|f)uk',\n",
        "        '(F|f)ck',\n",
        "        '(D|d)ick',\n",
        "        'Trump',\n",
        "        '\\W(A|a)nti',\n",
        "        '(W|w)hy',\n",
        "        # 'Jew',\n",
        "        'bait',\n",
        "        'care',\n",
        "        'troll',\n",
        "        'over',\n",
        "        'gender',\n",
        "        'people',\n",
        "        'kind',\n",
        "        '(S|s)ick',\n",
        "        '(S|s)uck',\n",
        "        '(I|i)diot',\n",
        "        # 'hole(s|)\\W',\n",
        "        '(B|b)ooty',\n",
        "        '(C|c)oin(s|)\\W',\n",
        "        '\\W(N|n)igger'\n",
        "    ]\n",
        "    misspell_re = re.compile('(%s)' % '|'.join(misspell_list))\n",
        "    return misspell_re.sub(r\" \\1 \", text)\n",
        "\n",
        "\n",
        "def clean_latex(text):\n",
        "    \"\"\"\n",
        "    convert r\"[math]\\vec{x} + \\vec{y}\" to English\n",
        "    \"\"\"\n",
        "    # edge case\n",
        "    text = re.sub(r'\\[math\\]', ' LaTex math ', text)\n",
        "    text = re.sub(r'\\[\\/math\\]', ' LaTex math ', text)\n",
        "    text = re.sub(r'\\\\', ' LaTex ', text)\n",
        "\n",
        "    pattern_to_sub = {\n",
        "        r'\\\\mathrm': ' LaTex math mode ',\n",
        "        r'\\\\mathbb': ' LaTex math mode ',\n",
        "        r'\\\\boxed': ' LaTex equation ',\n",
        "        r'\\\\begin': ' LaTex equation ',\n",
        "        r'\\\\end': ' LaTex equation ',\n",
        "        r'\\\\left': ' LaTex equation ',\n",
        "        r'\\\\right': ' LaTex equation ',\n",
        "        r'\\\\(over|under)brace': ' LaTex equation ',\n",
        "        r'\\\\text': ' LaTex equation ',\n",
        "        r'\\\\vec': ' vector ',\n",
        "        r'\\\\var': ' variable ',\n",
        "        r'\\\\theta': ' theta ',\n",
        "        r'\\\\mu': ' average ',\n",
        "        r'\\\\min': ' minimum ',\n",
        "        r'\\\\max': ' maximum ',\n",
        "        r'\\\\sum': ' + ',\n",
        "        r'\\\\times': ' * ',\n",
        "        r'\\\\cdot': ' * ',\n",
        "        r'\\\\hat': ' ^ ',\n",
        "        r'\\\\frac': ' / ',\n",
        "        r'\\\\div': ' / ',\n",
        "        r'\\\\sin': ' Sine ',\n",
        "        r'\\\\cos': ' Cosine ',\n",
        "        r'\\\\tan': ' Tangent ',\n",
        "        r'\\\\infty': ' infinity ',\n",
        "        r'\\\\int': ' integer ',\n",
        "        r'\\\\in': ' in ',\n",
        "    }\n",
        "    # post process for look up\n",
        "    pattern_dict = {k.strip('\\\\'): v for k, v in pattern_to_sub.items()}\n",
        "    # init re\n",
        "    patterns = pattern_to_sub.keys()\n",
        "    pattern_re = re.compile('(%s)' % '|'.join(patterns))\n",
        "\n",
        "    def _replace(match):\n",
        "        \"\"\"\n",
        "        reference: https://www.kaggle.com/hengzheng/attention-capsule-why-not-both-lb-0-694 # noqa\n",
        "        \"\"\"\n",
        "        return pattern_dict.get(match.group(0).strip('\\\\'), match.group(0))\n",
        "    return pattern_re.sub(_replace, text)\n",
        "\n",
        "\n",
        "def normalize_unicode(text):\n",
        "    \"\"\"\n",
        "    unicode string normalization\n",
        "    \"\"\"\n",
        "    return unicodedata.normalize('NFKD', text)\n",
        "\n",
        "\n",
        "def remove_newline(text):\n",
        "    \"\"\"\n",
        "    remove \\n and  \\t\n",
        "    \"\"\"\n",
        "    text = re.sub('\\n', ' ', text)\n",
        "    text = re.sub('\\t', ' ', text)\n",
        "    text = re.sub('\\b', ' ', text)\n",
        "    text = re.sub('\\r', ' ', text)\n",
        "    return text\n",
        "\n",
        "\n",
        "def decontracted(text):\n",
        "    \"\"\"\n",
        "    de-contract the contraction\n",
        "    \"\"\"\n",
        "    # specific\n",
        "    text = re.sub(r\"(W|w)on(\\'|\\’)t\", \"will not\", text)\n",
        "    text = re.sub(r\"(C|c)an(\\'|\\’)t\", \"can not\", text)\n",
        "    text = re.sub(r\"(Y|y)(\\'|\\’)all\", \"you all\", text)\n",
        "    text = re.sub(r\"(Y|y)a(\\'|\\’)ll\", \"you all\", text)\n",
        "\n",
        "    # general\n",
        "    text = re.sub(r\"(I|i)(\\'|\\’)m\", \"i am\", text)\n",
        "    text = re.sub(r\"(A|a)in(\\'|\\’)t\", \"is not\", text)\n",
        "    text = re.sub(r\"n(\\'|\\’)t\", \" not\", text)\n",
        "    text = re.sub(r\"(\\'|\\’)re\", \" are\", text)\n",
        "    text = re.sub(r\"(\\'|\\’)s\", \" is\", text)\n",
        "    text = re.sub(r\"(\\'|\\’)d\", \" would\", text)\n",
        "    text = re.sub(r\"(\\'|\\’)ll\", \" will\", text)\n",
        "    text = re.sub(r\"(\\'|\\’)t\", \" not\", text)\n",
        "    text = re.sub(r\"(\\'|\\’)ve\", \" have\", text)\n",
        "    return text\n",
        "\n",
        "\n",
        "def spacing_punctuation(text):\n",
        "    \"\"\"\n",
        "    add space before and after punctuation and symbols\n",
        "    \"\"\"\n",
        "    regular_punct = list(string.punctuation)\n",
        "    extra_punct = [\n",
        "        ',', '.', '\"', ':', ')', '(', '-', '!', '?', '|', ';', \"'\", '$', '&',\n",
        "        '/', '[', ']', '>', '%', '=', '#', '*', '+', '\\\\', '•',  '~', '@', '£',\n",
        "        '·', '_', '{', '}', '©', '^', '®', '`',  '<', '→', '°', '€', '™', '›',\n",
        "        '♥', '←', '×', '§', '″', '′', 'Â', '█', '½', 'à', '…', '“', '★', '”',\n",
        "        '–', '●', 'â', '►', '−', '¢', '²', '¬', '░', '¶', '↑', '±', '¿', '▾',\n",
        "        '═', '¦', '║', '―', '¥', '▓', '—', '‹', '─', '▒', '：', '¼', '⊕', '▼',\n",
        "        '▪', '†', '■', '’', '▀', '¨', '▄', '♫', '☆', 'é', '¯', '♦', '¤', '▲',\n",
        "        'è', '¸', '¾', 'Ã', '⋅', '‘', '∞', '∙', '）', '↓', '、', '│', '（', '»',\n",
        "        '，', '♪', '╩', '╚', '³', '・', '╦', '╣', '╔', '╗', '▬', '❤', 'ï', 'Ø',\n",
        "        '¹', '≤', '‡', '√', '«', '»', '´', 'º', '¾', '¡', '§', '£', '₤']\n",
        "    all_punct = ''.join(sorted(list(set(regular_punct + extra_punct))))\n",
        "    re_tok = re.compile(f'([{all_punct}])')\n",
        "    return re_tok.sub(r' \\1 ', text)\n",
        "\n",
        "\n",
        "def spacing_digit(text):\n",
        "    \"\"\"\n",
        "    add space before and after digits\n",
        "    \"\"\"\n",
        "    re_tok = re.compile('([0-9])')\n",
        "    return re_tok.sub(r' \\1 ', text)\n",
        "\n",
        "\n",
        "def spacing_number(text):\n",
        "    \"\"\"\n",
        "    add space before and after numbers\n",
        "    \"\"\"\n",
        "    re_tok = re.compile('([0-9]{1,})')\n",
        "    return re_tok.sub(r' \\1 ', text)\n",
        "\n",
        "\n",
        "def remove_number(text):\n",
        "    \"\"\"\n",
        "    numbers are not toxic\n",
        "    \"\"\"\n",
        "    return re.sub('\\d+', ' ', text)\n",
        "\n",
        "\n",
        "def remove_space(text):\n",
        "    \"\"\"\n",
        "    remove extra spaces and ending space if any\n",
        "    \"\"\"\n",
        "    text = re.sub('\\s+', ' ', text)\n",
        "    text = re.sub('\\s+$', '', text)\n",
        "    return text\n",
        "\n",
        "\n",
        "\"\"\"\n",
        "tokenizer\n",
        "\"\"\"\n",
        "\n",
        "\n",
        "def preprocess(text, remove_num=True):\n",
        "    \"\"\"\n",
        "    preprocess text into clean text for tokenization\n",
        "    NOTE:\n",
        "        1. glove supports uppper case words\n",
        "        2. glove supports digit\n",
        "        3. glove supports punctuation\n",
        "        5. glove supports domains e.g. www.apple.com\n",
        "        6. glove supports misspelled words e.g. FUCKKK\n",
        "    \"\"\"\n",
        "    # # 1. normalize\n",
        "    # text = normalize_unicode(text)\n",
        "    # # 2. remove new line\n",
        "    # text = remove_newline(text)\n",
        "    # 3. de-contract\n",
        "    text = decontracted(text)\n",
        "    # 4. clean misspell\n",
        "    text = clean_misspell(text)\n",
        "    # 5. space misspell\n",
        "    #text = spacing_misspell(text)\n",
        "    # 6. clean_latex\n",
        "    text = clean_latex(text)\n",
        "    # 7. space\n",
        "    text = spacing_punctuation(text)\n",
        "    # 8. handle number\n",
        "    if remove_num:\n",
        "        text = remove_number(text)\n",
        "    else:\n",
        "        text = spacing_digit(text)\n",
        "    # 9. remove space\n",
        "    text = remove_space(text)\n",
        "    return text"
      ],
      "execution_count": 0,
      "outputs": []
    },
    {
      "cell_type": "code",
      "metadata": {
        "id": "uUlRjIEMkodE",
        "colab_type": "code",
        "colab": {
          "base_uri": "https://localhost:8080/",
          "height": 34
        },
        "outputId": "69a31049-b41a-4798-db61-b5257893d0d9"
      },
      "source": [
        "df[\"question_text\"] = df[\"question_text\"].progress_apply(preprocess)"
      ],
      "execution_count": 6,
      "outputs": [
        {
          "output_type": "stream",
          "text": [
            "100%|██████████| 1306122/1306122 [04:40<00:00, 4662.54it/s]\n"
          ],
          "name": "stderr"
        }
      ]
    },
    {
      "cell_type": "code",
      "metadata": {
        "id": "SO7rknR7k3R6",
        "colab_type": "code",
        "colab": {
          "base_uri": "https://localhost:8080/",
          "height": 34
        },
        "outputId": "534c05e7-76de-4b67-f28e-89e790f8a0e0"
      },
      "source": [
        "from keras.preprocessing.text import Tokenizer\n",
        "from keras.preprocessing.sequence import pad_sequences\n",
        "from sklearn.model_selection import train_test_split\n",
        "\n",
        "train, val = train_test_split(df, test_size=0.1, random_state=42)\n",
        "n_words = 80000\n",
        "tokenizer = Tokenizer(num_words=n_words)\n",
        "tokenizer.fit_on_texts(list(train.question_text))\n",
        "\n",
        "q_train = tokenizer.texts_to_sequences(train.question_text)\n",
        "q_val = tokenizer.texts_to_sequences(val.question_text)\n",
        "#q_test = tokenizer.texts_to_sequences(df_test.question_text)\n",
        "\n",
        "max_len = 65\n",
        "q_train = pad_sequences(q_train,maxlen=max_len)\n",
        "q_val = pad_sequences(q_val,maxlen=max_len)\n",
        "#q_test = pad_sequences(q_test,maxlen=max_len)\n",
        "\n",
        "y_train = train.target\n",
        "y_val = val.target\n",
        "\n",
        "del train,val\n",
        "word_index = tokenizer.word_index\n",
        "emb_size = glove_dic['.'].shape[0]\n",
        "emb_matrix = np.zeros((n_words,emb_size))\n",
        "for w,index in word_index.items():\n",
        "    if index >= n_words:\n",
        "        continue\n",
        "    vec = glove_dic.get(w)\n",
        "    if vec is not None:\n",
        "        emb_matrix[index,:] = vec\n",
        "\n"
      ],
      "execution_count": 7,
      "outputs": [
        {
          "output_type": "stream",
          "text": [
            "Using TensorFlow backend.\n"
          ],
          "name": "stderr"
        }
      ]
    },
    {
      "cell_type": "code",
      "metadata": {
        "id": "Ahpp7cJhw024",
        "colab_type": "code",
        "colab": {}
      },
      "source": [
        "from keras import backend as K\n",
        "def f1(y_true, y_pred):\n",
        "    def recall(y_true, y_pred):\n",
        "        \"\"\"Recall metric.\n",
        "\n",
        "        Only computes a batch-wise average of recall.\n",
        "\n",
        "        Computes the recall, a metric for multi-label classification of\n",
        "        how many relevant items are selected.\n",
        "        \"\"\"\n",
        "        true_positives = K.sum(K.round(K.clip(y_true * y_pred, 0, 1)))\n",
        "        possible_positives = K.sum(K.round(K.clip(y_true, 0, 1)))\n",
        "        recall = true_positives / (possible_positives + K.epsilon())\n",
        "        return recall\n",
        "\n",
        "    def precision(y_true, y_pred):\n",
        "        \"\"\"Precision metric.\n",
        "\n",
        "        Only computes a batch-wise average of precision.\n",
        "\n",
        "        Computes the precision, a metric for multi-label classification of\n",
        "        how many selected items are relevant.\n",
        "        \"\"\"\n",
        "        true_positives = K.sum(K.round(K.clip(y_true * y_pred, 0, 1)))\n",
        "        predicted_positives = K.sum(K.round(K.clip(y_pred, 0, 1)))\n",
        "        precision = true_positives / (predicted_positives + K.epsilon())\n",
        "        return precision\n",
        "    precision = precision(y_true, y_pred)\n",
        "    recall = recall(y_true, y_pred)\n",
        "    return 2*((precision*recall)/(precision+recall+K.epsilon()))\n",
        "\n",
        "#find the best threshold\n",
        "def optim_thres(y_val,y_pred):\n",
        "    score = 0\n",
        "    thresholds = np.arange(0.1,0.501,0.01)\n",
        "    for thres in thresholds:\n",
        "        thres = np.round(thres,2)\n",
        "        temp_pred = (y_pred > thres).astype(int)\n",
        "        temp_score = f1_score(y_val,temp_pred)\n",
        "        print(\"Thres: {} --------- F1: {}\".format(thres,temp_score))\n",
        "        if temp_score > score:\n",
        "            score = temp_score\n",
        "            final_thres = thres\n",
        "    return final_thres"
      ],
      "execution_count": 0,
      "outputs": []
    },
    {
      "cell_type": "code",
      "metadata": {
        "id": "ABIanp_srG2C",
        "colab_type": "code",
        "colab": {}
      },
      "source": [
        "from sklearn.model_selection import train_test_split\n",
        "from sklearn.model_selection import train_test_split\n",
        "from sklearn.metrics import f1_score\n",
        "import gensim as gn\n",
        "from tqdm import tqdm_notebook\n",
        "\n",
        "from keras.layers import LSTM,Bidirectional,TimeDistributed, Embedding,Dense,Input,GlobalMaxPool1D,Flatten,Dropout\n",
        "from keras.layers import CuDNNLSTM,CuDNNGRU\n",
        "from keras.models import Sequential,Model\n",
        "from keras.preprocessing.text import Tokenizer\n",
        "from keras.preprocessing.sequence import pad_sequences\n",
        "from keras.callbacks import ModelCheckpoint\n",
        "from keras import backend as K\n",
        "from keras.optimizers import Adam,Adamax\n",
        "from keras.engine.topology import Layer\n",
        "from keras import initializers, regularizers, constraints\n",
        "\n",
        "\n",
        "class Attention(Layer):\n",
        "    def __init__(self, step_dim,\n",
        "                 W_regularizer=None, b_regularizer=None,\n",
        "                 W_constraint=None, b_constraint=None,\n",
        "                 bias=True, **kwargs):\n",
        "        self.supports_masking = True\n",
        "        self.init = initializers.get('glorot_uniform')\n",
        "\n",
        "        self.W_regularizer = regularizers.get(W_regularizer)\n",
        "        self.b_regularizer = regularizers.get(b_regularizer)\n",
        "\n",
        "        self.W_constraint = constraints.get(W_constraint)\n",
        "        self.b_constraint = constraints.get(b_constraint)\n",
        "\n",
        "        self.bias = bias\n",
        "        self.step_dim = step_dim\n",
        "        self.features_dim = 0\n",
        "        super(Attention, self).__init__(**kwargs)\n",
        "        \n",
        "    def build(self, input_shape):\n",
        "        assert len(input_shape) == 3\n",
        "\n",
        "        self.W = self.add_weight((input_shape[-1],),\n",
        "                                 initializer=self.init,\n",
        "                                 name='{}_W'.format(self.name),\n",
        "                                 regularizer=self.W_regularizer,\n",
        "                                 constraint=self.W_constraint)\n",
        "        self.features_dim = input_shape[-1]\n",
        "\n",
        "        if self.bias:\n",
        "            self.b = self.add_weight((input_shape[1],),\n",
        "                                     initializer='zero',\n",
        "                                     name='{}_b'.format(self.name),\n",
        "                                     regularizer=self.b_regularizer,\n",
        "                                     constraint=self.b_constraint)\n",
        "        else:\n",
        "            self.b = None\n",
        "\n",
        "        self.built = True\n",
        "        \n",
        "    def compute_mask(self, input, input_mask=None):\n",
        "        return None\n",
        "\n",
        "    def call(self, x, mask=None):\n",
        "        \n",
        "        features_dim = self.features_dim\n",
        "        step_dim = self.step_dim\n",
        "\n",
        "        eij = K.reshape(K.dot(K.reshape(x, (-1, features_dim)),\n",
        "                        K.reshape(self.W, (features_dim, 1))), (-1, step_dim))\n",
        "\n",
        "        if self.bias:\n",
        "            eij += self.b\n",
        "\n",
        "        eij = K.tanh(eij)\n",
        "\n",
        "        a = K.exp(eij)\n",
        "\n",
        "        if mask is not None:\n",
        "            a *= K.cast(mask, K.floatx())\n",
        "\n",
        "        a /= K.cast(K.sum(a, axis=1, keepdims=True) + K.epsilon(), K.floatx())\n",
        "\n",
        "        a = K.expand_dims(a)\n",
        "        weighted_input = x * a\n",
        "        return K.sum(weighted_input, axis=1)\n",
        "    def compute_output_shape(self, input_shape):\n",
        "        return input_shape[0], self.features_dim"
      ],
      "execution_count": 0,
      "outputs": []
    },
    {
      "cell_type": "code",
      "metadata": {
        "id": "HEOFMvJ8wX33",
        "colab_type": "code",
        "colab": {}
      },
      "source": [
        "from keras.models import Model\n",
        "from keras.layers import Input, Dense\n",
        "from keras.layers import LSTM,Bidirectional,TimeDistributed, Embedding,Dense,Input,GlobalMaxPool1D,Flatten,Dropout,Conv1D\n",
        "from keras.layers import CuDNNLSTM,CuDNNGRU\n",
        "from keras.models import Sequential\n",
        "from keras.callbacks import ModelCheckpoint\n",
        "from keras.layers import Embedding,Flatten,Dense\n",
        "from keras.optimizers import Adam,Adamax\n",
        "from keras.engine.topology import Layer\n",
        "from keras.layers.normalization import BatchNormalization\n"
      ],
      "execution_count": 0,
      "outputs": []
    },
    {
      "cell_type": "code",
      "metadata": {
        "id": "5jLqBO21wdYv",
        "colab_type": "code",
        "colab": {
          "base_uri": "https://localhost:8080/",
          "height": 564
        },
        "outputId": "5edc4e85-91ff-42bf-a2d2-8bb41ee1cd01"
      },
      "source": [
        "inp = Input(shape=(max_len,))\n",
        "x = Embedding(input_dim=n_words,output_dim=emb_size, weights=[emb_matrix])(inp)\n",
        "#x = Embedding(input_dim=n_words,output_dim=embed_size, weights=[embedding_matrix])(inp)\n",
        "#x = Bidirectional(CuDNNLSTM(100, return_sequences=True))(x)\n",
        "x = Bidirectional(CuDNNLSTM(100, return_sequences=True))(x)\n",
        "x =  Bidirectional(CuDNNGRU(100,return_sequences=True))(x)\n",
        "x = Attention(step_dim=max_len)(x)\n",
        "x = Dense(36,activation='relu')(x)\n",
        "x = Dropout(0.1)(x)\n",
        "x = Dense(1, activation='sigmoid')(x)\n",
        "model = Model(inputs=inp,output=x)\n",
        "model.summary()"
      ],
      "execution_count": 10,
      "outputs": [
        {
          "output_type": "stream",
          "text": [
            "WARNING:tensorflow:From /usr/local/lib/python3.6/dist-packages/tensorflow/python/framework/op_def_library.py:263: colocate_with (from tensorflow.python.framework.ops) is deprecated and will be removed in a future version.\n",
            "Instructions for updating:\n",
            "Colocations handled automatically by placer.\n",
            "WARNING:tensorflow:From /usr/local/lib/python3.6/dist-packages/keras/backend/tensorflow_backend.py:3445: calling dropout (from tensorflow.python.ops.nn_ops) with keep_prob is deprecated and will be removed in a future version.\n",
            "Instructions for updating:\n",
            "Please use `rate` instead of `keep_prob`. Rate should be set to `rate = 1 - keep_prob`.\n",
            "_________________________________________________________________\n",
            "Layer (type)                 Output Shape              Param #   \n",
            "=================================================================\n",
            "input_1 (InputLayer)         (None, 65)                0         \n",
            "_________________________________________________________________\n",
            "embedding_1 (Embedding)      (None, 65, 300)           24000000  \n",
            "_________________________________________________________________\n",
            "bidirectional_1 (Bidirection (None, 65, 200)           321600    \n",
            "_________________________________________________________________\n",
            "bidirectional_2 (Bidirection (None, 65, 200)           181200    \n",
            "_________________________________________________________________\n",
            "attention_1 (Attention)      (None, 200)               265       \n",
            "_________________________________________________________________\n",
            "dense_1 (Dense)              (None, 36)                7236      \n",
            "_________________________________________________________________\n",
            "dropout_1 (Dropout)          (None, 36)                0         \n",
            "_________________________________________________________________\n",
            "dense_2 (Dense)              (None, 1)                 37        \n",
            "=================================================================\n",
            "Total params: 24,510,338\n",
            "Trainable params: 24,510,338\n",
            "Non-trainable params: 0\n",
            "_________________________________________________________________\n"
          ],
          "name": "stdout"
        },
        {
          "output_type": "stream",
          "text": [
            "/usr/local/lib/python3.6/dist-packages/ipykernel_launcher.py:11: UserWarning: Update your `Model` call to the Keras 2 API: `Model(inputs=Tensor(\"in..., outputs=Tensor(\"de...)`\n",
            "  # This is added back by InteractiveShellApp.init_path()\n"
          ],
          "name": "stderr"
        }
      ]
    },
    {
      "cell_type": "code",
      "metadata": {
        "id": "BcWOnOfBwjLv",
        "colab_type": "code",
        "colab": {
          "base_uri": "https://localhost:8080/",
          "height": 581
        },
        "outputId": "4af20cd0-e50e-492e-a602-bf5e3d7ed118"
      },
      "source": [
        "model_name = 'lstm_glove_emb'\n",
        "checkpoint = ModelCheckpoint(filepath='./{}.hdf5'.format(model_name),\n",
        "                             monitor='val_f1',mode='max',verbose=1,\n",
        "                            save_best_only=True)\n",
        "\n",
        "adamax= Adamax(lr=0.002, beta_1=0.9, beta_2=0.999, epsilon=None, decay=0.0)\n",
        "model.compile(loss='binary_crossentropy', optimizer='adamax', metrics=['acc',f1])\n",
        "history  = model.fit(q_train,y_train,batch_size=1500,epochs=7,\n",
        "                     validation_data=(q_val,y_val),verbose=1,callbacks=[checkpoint])"
      ],
      "execution_count": 13,
      "outputs": [
        {
          "output_type": "stream",
          "text": [
            "WARNING:tensorflow:From /usr/local/lib/python3.6/dist-packages/tensorflow/python/ops/math_ops.py:3066: to_int32 (from tensorflow.python.ops.math_ops) is deprecated and will be removed in a future version.\n",
            "Instructions for updating:\n",
            "Use tf.cast instead.\n",
            "Train on 1175509 samples, validate on 130613 samples\n",
            "Epoch 1/7\n",
            "1175509/1175509 [==============================] - 160s 136us/step - loss: 0.1221 - acc: 0.9524 - f1: 0.5467 - val_loss: 0.1103 - val_acc: 0.9551 - val_f1: 0.6532\n",
            "\n",
            "Epoch 00001: val_f1 improved from -inf to 0.65317, saving model to ./lstm_glove_emb.hdf5\n",
            "Epoch 2/7\n",
            "1175509/1175509 [==============================] - 163s 139us/step - loss: 0.1023 - acc: 0.9591 - f1: 0.6375 - val_loss: 0.0994 - val_acc: 0.9602 - val_f1: 0.6579\n",
            "\n",
            "Epoch 00002: val_f1 improved from 0.65317 to 0.65790, saving model to ./lstm_glove_emb.hdf5\n",
            "Epoch 3/7\n",
            "1175509/1175509 [==============================] - 165s 141us/step - loss: 0.0960 - acc: 0.9614 - f1: 0.6660 - val_loss: 0.0975 - val_acc: 0.9611 - val_f1: 0.6530\n",
            "\n",
            "Epoch 00003: val_f1 did not improve from 0.65790\n",
            "Epoch 4/7\n",
            "1175509/1175509 [==============================] - 165s 141us/step - loss: 0.0909 - acc: 0.9632 - f1: 0.6869 - val_loss: 0.0968 - val_acc: 0.9602 - val_f1: 0.6732\n",
            "\n",
            "Epoch 00004: val_f1 improved from 0.65790 to 0.67317, saving model to ./lstm_glove_emb.hdf5\n",
            "Epoch 5/7\n",
            "1175509/1175509 [==============================] - 166s 141us/step - loss: 0.0863 - acc: 0.9650 - f1: 0.7058 - val_loss: 0.0965 - val_acc: 0.9618 - val_f1: 0.6654\n",
            "\n",
            "Epoch 00005: val_f1 did not improve from 0.67317\n",
            "Epoch 6/7\n",
            "1175509/1175509 [==============================] - 165s 141us/step - loss: 0.0817 - acc: 0.9668 - f1: 0.7243 - val_loss: 0.0971 - val_acc: 0.9617 - val_f1: 0.6658\n",
            "\n",
            "Epoch 00006: val_f1 did not improve from 0.67317\n",
            "Epoch 7/7\n",
            "1175509/1175509 [==============================] - 165s 141us/step - loss: 0.0771 - acc: 0.9685 - f1: 0.7391 - val_loss: 0.1011 - val_acc: 0.9606 - val_f1: 0.6719\n",
            "\n",
            "Epoch 00007: val_f1 did not improve from 0.67317\n"
          ],
          "name": "stdout"
        }
      ]
    },
    {
      "cell_type": "code",
      "metadata": {
        "id": "B-fYEMZz1xGd",
        "colab_type": "code",
        "colab": {
          "base_uri": "https://localhost:8080/",
          "height": 573
        },
        "outputId": "5b8f5c7e-c75b-439d-aafe-6f8e4d66b3ca"
      },
      "source": [
        "import matplotlib.pyplot as plt\n",
        "plt.plot(history.history['f1'])\n",
        "plt.plot(history.history['val_f1'])\n",
        "plt.title('Model accuracy')\n",
        "plt.ylabel('F1')\n",
        "plt.xlabel('Epoch')\n",
        "plt.legend(['Train', 'Test'], loc='upper left')\n",
        "plt.show()\n",
        "plt.plot(history.history['loss'])\n",
        "plt.plot(history.history['val_loss'])\n",
        "plt.title('Loss')\n",
        "plt.ylabel('loss')\n",
        "plt.xlabel('Epoch')\n",
        "plt.legend(['Train', 'Test'], loc='upper left')\n",
        "plt.show()"
      ],
      "execution_count": 15,
      "outputs": [
        {
          "output_type": "display_data",
          "data": {
            "image/png": "[encoded data removed]",
            "text/plain": [
              "<Figure size 432x288 with 1 Axes>"
            ]
          },
          "metadata": {
            "tags": []
          }
        },
        {
          "output_type": "display_data",
          "data": {
            "image/png": "[encoded data removed]",
            "text/plain": [
              "<Figure size 432x288 with 1 Axes>"
            ]
          },
          "metadata": {
            "tags": []
          }
        }
      ]
    },
    {
      "cell_type": "code",
      "metadata": {
        "id": "uheBL-a6wrSj",
        "colab_type": "code",
        "colab": {
          "base_uri": "https://localhost:8080/",
          "height": 479
        },
        "outputId": "2c8991a7-885a-4a6e-d52a-51b441ea0666"
      },
      "source": [
        "inp = Input(shape=(max_len,))\n",
        "x = Embedding(input_dim=n_words,output_dim=emb_size, weights=[emb_matrix])(inp)\n",
        "x = Bidirectional(CuDNNLSTM(128, return_sequences=True))(x)\n",
        "x =  Bidirectional(CuDNNGRU(128,return_sequences=True))(x)\n",
        "x = Conv1D(50,10,activation='relu')(x)\n",
        "x = GlobalMaxPool1D()(x)\n",
        "#x = Conv1D(None,20,3,activation='relu')(x)\n",
        "#x = GlobalMaxPool1D()(x)\n",
        "x = Dense(128,activation='relu')(x)\n",
        "x = Dropout(0.5)(x)\n",
        "        #X = BatchNormalization(axis=1, momentum=0.99, epsilon=0.001, center=True, scale=True, \n",
        "                               #beta_initializer='zeros', gamma_initializer='ones', \n",
        "                               #moving_mean_initializer='zeros', \n",
        "                               #moving_variance_initializer='ones',\n",
        "                               #beta_regularizer=None, gamma_regularizer=None, \n",
        "                               #beta_constraint=None, gamma_constraint=None)(x)\n",
        "x = Dense(1, activation='sigmoid')(x)\n",
        "model = Model(inputs=inp,output=x)\n",
        "model.summary()"
      ],
      "execution_count": 17,
      "outputs": [
        {
          "output_type": "stream",
          "text": [
            "_________________________________________________________________\n",
            "Layer (type)                 Output Shape              Param #   \n",
            "=================================================================\n",
            "input_4 (InputLayer)         (None, 65)                0         \n",
            "_________________________________________________________________\n",
            "embedding_4 (Embedding)      (None, 65, 300)           24000000  \n",
            "_________________________________________________________________\n",
            "bidirectional_7 (Bidirection (None, 65, 256)           440320    \n",
            "_________________________________________________________________\n",
            "bidirectional_8 (Bidirection (None, 65, 256)           296448    \n",
            "_________________________________________________________________\n",
            "conv1d_3 (Conv1D)            (None, 56, 50)            128050    \n",
            "_________________________________________________________________\n",
            "global_max_pooling1d_3 (Glob (None, 50)                0         \n",
            "_________________________________________________________________\n",
            "dense_7 (Dense)              (None, 128)               6528      \n",
            "_________________________________________________________________\n",
            "dropout_4 (Dropout)          (None, 128)               0         \n",
            "_________________________________________________________________\n",
            "dense_8 (Dense)              (None, 1)                 129       \n",
            "=================================================================\n",
            "Total params: 24,871,475\n",
            "Trainable params: 24,871,475\n",
            "Non-trainable params: 0\n",
            "_________________________________________________________________\n"
          ],
          "name": "stdout"
        },
        {
          "output_type": "stream",
          "text": [
            "/usr/local/lib/python3.6/dist-packages/ipykernel_launcher.py:18: UserWarning: Update your `Model` call to the Keras 2 API: `Model(inputs=Tensor(\"in..., outputs=Tensor(\"de...)`\n"
          ],
          "name": "stderr"
        }
      ]
    },
    {
      "cell_type": "code",
      "metadata": {
        "id": "0FcsAVbg1rRW",
        "colab_type": "code",
        "colab": {
          "base_uri": "https://localhost:8080/",
          "height": 581
        },
        "outputId": "762f77a6-23cb-426b-cc9c-a5775e958551"
      },
      "source": [
        "model_name = 'lstm_glove_emb'\n",
        "checkpoint = ModelCheckpoint(filepath='./{}.hdf5'.format(model_name),\n",
        "                             monitor='val_f1',mode='max',verbose=1,\n",
        "                            save_best_only=True)\n",
        "\n",
        "adamax= Adamax(lr=0.002, beta_1=0.9, beta_2=0.999, epsilon=None, decay=0.0)\n",
        "model.compile(loss='binary_crossentropy', optimizer='adamax', metrics=['acc',f1])\n",
        "history  = model.fit(q_train,y_train,batch_size=1500,epochs=7,\n",
        "                     validation_data=(q_val,y_val),verbose=1,callbacks=[checkpoint])"
      ],
      "execution_count": 18,
      "outputs": [
        {
          "output_type": "stream",
          "text": [
            "WARNING:tensorflow:From /usr/local/lib/python3.6/dist-packages/tensorflow/python/ops/math_grad.py:102: div (from tensorflow.python.ops.math_ops) is deprecated and will be removed in a future version.\n",
            "Instructions for updating:\n",
            "Deprecated in favor of operator or tf.math.divide.\n",
            "Train on 1175509 samples, validate on 130613 samples\n",
            "Epoch 1/7\n",
            "1175509/1175509 [==============================] - 210s 179us/step - loss: 0.1203 - acc: 0.9527 - f1: 0.5552 - val_loss: 0.1025 - val_acc: 0.9587 - val_f1: 0.5952\n",
            "\n",
            "Epoch 00001: val_f1 improved from -inf to 0.59515, saving model to ./lstm_glove_emb.hdf5\n",
            "Epoch 2/7\n",
            "1175509/1175509 [==============================] - 217s 185us/step - loss: 0.1021 - acc: 0.9594 - f1: 0.6426 - val_loss: 0.1016 - val_acc: 0.9574 - val_f1: 0.6680\n",
            "\n",
            "Epoch 00002: val_f1 improved from 0.59515 to 0.66801, saving model to ./lstm_glove_emb.hdf5\n",
            "Epoch 3/7\n",
            "1175509/1175509 [==============================] - 218s 186us/step - loss: 0.0954 - acc: 0.9618 - f1: 0.6699 - val_loss: 0.0975 - val_acc: 0.9611 - val_f1: 0.6564\n",
            "\n",
            "Epoch 00003: val_f1 did not improve from 0.66801\n",
            "Epoch 4/7\n",
            "1175509/1175509 [==============================] - 219s 186us/step - loss: 0.0900 - acc: 0.9636 - f1: 0.6907 - val_loss: 0.0965 - val_acc: 0.9619 - val_f1: 0.6481\n",
            "\n",
            "Epoch 00004: val_f1 did not improve from 0.66801\n",
            "Epoch 5/7\n",
            "1175509/1175509 [==============================] - 217s 184us/step - loss: 0.0848 - acc: 0.9656 - f1: 0.7107 - val_loss: 0.0974 - val_acc: 0.9615 - val_f1: 0.6499\n",
            "\n",
            "Epoch 00005: val_f1 did not improve from 0.66801\n",
            "Epoch 6/7\n",
            "1175509/1175509 [==============================] - 216s 184us/step - loss: 0.0794 - acc: 0.9676 - f1: 0.7312 - val_loss: 0.1022 - val_acc: 0.9611 - val_f1: 0.6561\n",
            "\n",
            "Epoch 00006: val_f1 did not improve from 0.66801\n",
            "Epoch 7/7\n",
            "1175509/1175509 [==============================] - 216s 184us/step - loss: 0.0739 - acc: 0.9699 - f1: 0.7538 - val_loss: 0.1083 - val_acc: 0.9594 - val_f1: 0.6656\n",
            "\n",
            "Epoch 00007: val_f1 did not improve from 0.66801\n"
          ],
          "name": "stdout"
        }
      ]
    },
    {
      "cell_type": "code",
      "metadata": {
        "id": "OIH0ZzxI2JrZ",
        "colab_type": "code",
        "colab": {
          "base_uri": "https://localhost:8080/",
          "height": 573
        },
        "outputId": "01557929-9a5a-497c-e7bf-bbaf91c6b6da"
      },
      "source": [
        "import matplotlib.pyplot as plt\n",
        "plt.plot(history.history['f1'])\n",
        "plt.plot(history.history['val_f1'])\n",
        "plt.title('Model accuracy')\n",
        "plt.ylabel('F1')\n",
        "plt.xlabel('Epoch')\n",
        "plt.legend(['Train', 'Test'], loc='upper left')\n",
        "plt.show()\n",
        "plt.plot(history.history['loss'])\n",
        "plt.plot(history.history['val_loss'])\n",
        "plt.title('Loss')\n",
        "plt.ylabel('loss')\n",
        "plt.xlabel('Epoch')\n",
        "plt.legend(['Train', 'Test'], loc='upper left')\n",
        "plt.show()"
      ],
      "execution_count": 19,
      "outputs": [
        {
          "output_type": "display_data",
          "data": {
            "image/png": "[encoded data removed]",
            "text/plain": [
              "<Figure size 432x288 with 1 Axes>"
            ]
          },
          "metadata": {
            "tags": []
          }
        },
        {
          "output_type": "display_data",
          "data": {
            "image/png": "[encoded data removed]",
            "text/plain": [
              "<Figure size 432x288 with 1 Axes>"
            ]
          },
          "metadata": {
            "tags": []
          }
        }
      ]
    },
    {
      "cell_type": "code",
      "metadata": {
        "id": "Zwbvp8OJ8MtZ",
        "colab_type": "code",
        "colab": {}
      },
      "source": [
        ""
      ],
      "execution_count": 0,
      "outputs": []
    }
  ]
}