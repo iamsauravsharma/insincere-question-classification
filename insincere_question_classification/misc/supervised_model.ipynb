{
  "nbformat": 4,
  "nbformat_minor": 0,
  "metadata": {
    "colab": {
      "name": "supervised_model.ipynb",
      "version": "0.3.2",
      "provenance": [],
      "collapsed_sections": [],
      "machine_shape": "hm"
    },
    "kernelspec": {
      "name": "python3",
      "display_name": "Python 3"
    }
  },
  "cells": [
    {
      "cell_type": "code",
      "metadata": {
        "id": "j7IczRhXcKOe",
        "colab_type": "code",
        "colab": {}
      },
      "source": [
        "from google.colab import files\n",
        "files.upload()"
      ],
      "execution_count": 0,
      "outputs": []
    },
    {
      "cell_type": "code",
      "metadata": {
        "id": "D8xDkWm-dI8m",
        "colab_type": "code",
        "colab": {}
      },
      "source": [
        "!mkdir -p ~/.kaggle\n",
        "!cp kaggle.json ~/.kaggle/\n",
        "!chmod 600 ~/.kaggle/kaggle.json"
      ],
      "execution_count": 0,
      "outputs": []
    },
    {
      "cell_type": "code",
      "metadata": {
        "id": "mSF0wIS2vMvJ",
        "colab_type": "code",
        "outputId": "b3cede83-2e55-479b-be7b-70a03d2a6e62",
        "colab": {
          "base_uri": "https://localhost:8080/",
          "height": 69
        }
      },
      "source": [
        "!kaggle competitions download -c quora-insincere-questions-classification -f train.csv"
      ],
      "execution_count": 0,
      "outputs": [
        {
          "output_type": "stream",
          "text": [
            "Downloading train.csv.zip to /content\n",
            " 86% 47.0M/54.4M [00:00<00:00, 65.4MB/s]\n",
            "100% 54.4M/54.4M [00:00<00:00, 74.5MB/s]\n"
          ],
          "name": "stdout"
        }
      ]
    },
    {
      "cell_type": "code",
      "metadata": {
        "id": "38Eqa545IUWj",
        "colab_type": "code",
        "outputId": "48fce098-c623-4e5f-8f35-8f808a0897dc",
        "colab": {
          "base_uri": "https://localhost:8080/",
          "height": 34
        }
      },
      "source": [
        "from zipfile import ZipFile\n",
        "file_name=\"train.csv.zip\"\n",
        "with ZipFile(file_name,'r') as zip:\n",
        "    zip.extractall()\n",
        "    print('Done')"
      ],
      "execution_count": 0,
      "outputs": [
        {
          "output_type": "stream",
          "text": [
            "Done\n"
          ],
          "name": "stdout"
        }
      ]
    },
    {
      "cell_type": "code",
      "metadata": {
        "id": "HVab5uDYL5XA",
        "colab_type": "code",
        "outputId": "6f110684-15d2-4905-87e3-d1538be8f068",
        "colab": {
          "base_uri": "https://localhost:8080/",
          "height": 206
        }
      },
      "source": [
        "import pandas as pd\n",
        "df=pd.read_csv('train.csv')\n",
        "del df[\"qid\"]\n",
        "df.head()"
      ],
      "execution_count": 0,
      "outputs": [
        {
          "output_type": "execute_result",
          "data": {
            "text/html": [
              "<div>\n",
              "<style scoped>\n",
              "    .dataframe tbody tr th:only-of-type {\n",
              "        vertical-align: middle;\n",
              "    }\n",
              "\n",
              "    .dataframe tbody tr th {\n",
              "        vertical-align: top;\n",
              "    }\n",
              "\n",
              "    .dataframe thead th {\n",
              "        text-align: right;\n",
              "    }\n",
              "</style>\n",
              "<table border=\"1\" class=\"dataframe\">\n",
              "  <thead>\n",
              "    <tr style=\"text-align: right;\">\n",
              "      <th></th>\n",
              "      <th>question_text</th>\n",
              "      <th>target</th>\n",
              "    </tr>\n",
              "  </thead>\n",
              "  <tbody>\n",
              "    <tr>\n",
              "      <th>0</th>\n",
              "      <td>How did Quebec nationalists see their province...</td>\n",
              "      <td>0</td>\n",
              "    </tr>\n",
              "    <tr>\n",
              "      <th>1</th>\n",
              "      <td>Do you have an adopted dog, how would you enco...</td>\n",
              "      <td>0</td>\n",
              "    </tr>\n",
              "    <tr>\n",
              "      <th>2</th>\n",
              "      <td>Why does velocity affect time? Does velocity a...</td>\n",
              "      <td>0</td>\n",
              "    </tr>\n",
              "    <tr>\n",
              "      <th>3</th>\n",
              "      <td>How did Otto von Guericke used the Magdeburg h...</td>\n",
              "      <td>0</td>\n",
              "    </tr>\n",
              "    <tr>\n",
              "      <th>4</th>\n",
              "      <td>Can I convert montra helicon D to a mountain b...</td>\n",
              "      <td>0</td>\n",
              "    </tr>\n",
              "  </tbody>\n",
              "</table>\n",
              "</div>"
            ],
            "text/plain": [
              "                                       question_text  target\n",
              "0  How did Quebec nationalists see their province...       0\n",
              "1  Do you have an adopted dog, how would you enco...       0\n",
              "2  Why does velocity affect time? Does velocity a...       0\n",
              "3  How did Otto von Guericke used the Magdeburg h...       0\n",
              "4  Can I convert montra helicon D to a mountain b...       0"
            ]
          },
          "metadata": {
            "tags": []
          },
          "execution_count": 5
        }
      ]
    },
    {
      "cell_type": "code",
      "metadata": {
        "id": "Nn_-TNogIJ8E",
        "colab_type": "code",
        "outputId": "35e26f43-f59b-45ed-c4ae-82f26e1ab64d",
        "colab": {
          "base_uri": "https://localhost:8080/",
          "height": 69
        }
      },
      "source": [
        "import nltk\n",
        "from nltk.tokenize import word_tokenize\n",
        "nltk.download('punkt')\n",
        "question_text = df.question_text.str.cat(sep=' ')#function to split text into word\n",
        "tokens = word_tokenize(question_text)\n",
        "vocabulary = set(tokens)\n",
        "print(len(vocabulary))\n",
        "frequency_dist = nltk.FreqDist(tokens)"
      ],
      "execution_count": 0,
      "outputs": [
        {
          "output_type": "stream",
          "text": [
            "[nltk_data] Downloading package punkt to /root/nltk_data...\n",
            "[nltk_data]   Unzipping tokenizers/punkt.zip.\n",
            "308880\n"
          ],
          "name": "stdout"
        }
      ]
    },
    {
      "cell_type": "code",
      "metadata": {
        "id": "OfQSzhOarE3G",
        "colab_type": "code",
        "colab": {}
      },
      "source": [
        "from wordcloud import STOPWORDS\n",
        "stop_words = set(STOPWORDS)\n",
        "tokens = [w for w in tokens if not w in stop_words]\n",
        "frequency_dist = nltk.FreqDist(tokens)"
      ],
      "execution_count": 0,
      "outputs": []
    },
    {
      "cell_type": "code",
      "metadata": {
        "id": "yhWbbT77tHhE",
        "colab_type": "code",
        "colab": {}
      },
      "source": [
        "from sklearn.model_selection import train_test_split\n",
        "X_train, X_test, y_train, y_test = train_test_split(df[\"question_text\"], df[\"target\"], test_size=0.10)"
      ],
      "execution_count": 0,
      "outputs": []
    },
    {
      "cell_type": "code",
      "metadata": {
        "id": "0TRfifs4t--t",
        "colab_type": "code",
        "outputId": "a77e5bfb-b2cf-4faf-a862-ced730a0e741",
        "colab": {
          "base_uri": "https://localhost:8080/",
          "height": 34
        }
      },
      "source": [
        "from sklearn.feature_extraction.text import TfidfVectorizer\n",
        "vectorizer = TfidfVectorizer()\n",
        "train_vectors = vectorizer.fit_transform(X_train)\n",
        "test_vectors = vectorizer.transform(X_test)\n",
        "print(train_vectors.shape, test_vectors.shape)"
      ],
      "execution_count": 0,
      "outputs": [
        {
          "output_type": "stream",
          "text": [
            "(1175509, 184347) (130613, 184347)\n"
          ],
          "name": "stdout"
        }
      ]
    },
    {
      "cell_type": "code",
      "metadata": {
        "id": "lPV3vBHHC4nf",
        "colab_type": "code",
        "colab": {}
      },
      "source": [
        "from sklearn.metrics import f1_score,accuracy_score,precision_score,recall_score,confusion_matrix"
      ],
      "execution_count": 0,
      "outputs": []
    },
    {
      "cell_type": "markdown",
      "metadata": {
        "id": "d7KZ4jO-rVtb",
        "colab_type": "text"
      },
      "source": [
        "## Logistic Regression"
      ]
    },
    {
      "cell_type": "code",
      "metadata": {
        "id": "Os8MCcr_iXQE",
        "colab_type": "code",
        "outputId": "8a6b2787-0c7d-4602-955e-947fb2ff4c1d",
        "colab": {
          "base_uri": "https://localhost:8080/",
          "height": 139
        }
      },
      "source": [
        "from sklearn.linear_model import LogisticRegression\n",
        "lr = LogisticRegression()\n",
        "lr.fit(train_vectors,y_train)"
      ],
      "execution_count": 0,
      "outputs": [
        {
          "output_type": "stream",
          "text": [
            "/usr/local/lib/python3.6/dist-packages/sklearn/linear_model/logistic.py:432: FutureWarning: Default solver will be changed to 'lbfgs' in 0.22. Specify a solver to silence this warning.\n",
            "  FutureWarning)\n"
          ],
          "name": "stderr"
        },
        {
          "output_type": "execute_result",
          "data": {
            "text/plain": [
              "LogisticRegression(C=1.0, class_weight=None, dual=False, fit_intercept=True,\n",
              "                   intercept_scaling=1, l1_ratio=None, max_iter=100,\n",
              "                   multi_class='warn', n_jobs=None, penalty='l2',\n",
              "                   random_state=None, solver='warn', tol=0.0001, verbose=0,\n",
              "                   warm_start=False)"
            ]
          },
          "metadata": {
            "tags": []
          },
          "execution_count": 11
        }
      ]
    },
    {
      "cell_type": "code",
      "metadata": {
        "id": "DUKTvvOjilDC",
        "colab_type": "code",
        "outputId": "cf82d7c3-2767-4f79-bec7-441dd8991ba4",
        "colab": {
          "base_uri": "https://localhost:8080/",
          "height": 121
        }
      },
      "source": [
        "prediction = lr.predict(test_vectors)\n",
        "print(\"f1 score {}\".format(f1_score(y_test,prediction)))\n",
        "print(\"accuracy {}\".format(accuracy_score(y_test,prediction)))\n",
        "print(\"precision score {}\".format(precision_score(y_test,prediction)))\n",
        "print(\"recall_score {}\".format(recall_score(y_test,prediction)))\n",
        "cm_custom = confusion_matrix(y_test,prediction)\n",
        "print(cm_custom)"
      ],
      "execution_count": 0,
      "outputs": [
        {
          "output_type": "stream",
          "text": [
            "f1 score 0.5406233249100237\n",
            "accuracy 0.954070421780374\n",
            "precision score 0.7104045079492856\n",
            "recall_score 0.4363411619283066\n",
            "[[121084   1439]\n",
            " [  4560   3530]]\n"
          ],
          "name": "stdout"
        }
      ]
    },
    {
      "cell_type": "markdown",
      "metadata": {
        "id": "jGSMDQ07rlbD",
        "colab_type": "text"
      },
      "source": [
        "\n",
        "\n",
        "## MultiNomial Naive Bayes Classification"
      ]
    },
    {
      "cell_type": "code",
      "metadata": {
        "id": "2sfvtqCWrweI",
        "colab_type": "code",
        "outputId": "b1d31acd-5588-49a3-cb8c-5233ab246302",
        "colab": {
          "base_uri": "https://localhost:8080/",
          "height": 34
        }
      },
      "source": [
        "from sklearn.naive_bayes import MultinomialNB\n",
        "mn = MultinomialNB()\n",
        "mn.fit(train_vectors,y_train)"
      ],
      "execution_count": 0,
      "outputs": [
        {
          "output_type": "execute_result",
          "data": {
            "text/plain": [
              "MultinomialNB(alpha=1.0, class_prior=None, fit_prior=True)"
            ]
          },
          "metadata": {
            "tags": []
          },
          "execution_count": 13
        }
      ]
    },
    {
      "cell_type": "code",
      "metadata": {
        "id": "UpyKvaLnsAY3",
        "colab_type": "code",
        "outputId": "a18d42f8-0da9-4dd7-9716-a32de604453c",
        "colab": {
          "base_uri": "https://localhost:8080/",
          "height": 121
        }
      },
      "source": [
        "prediction = mn.predict(test_vectors)\n",
        "print(\"f1 score {}\".format(f1_score(y_test,prediction)))\n",
        "print(\"accuracy {}\".format(accuracy_score(y_test,prediction)))\n",
        "print(\"precision score {}\".format(precision_score(y_test,prediction)))\n",
        "print(\"recall_score {}\".format(recall_score(y_test,prediction)))\n",
        "cm_custom = confusion_matrix(y_test,prediction)\n",
        "print(cm_custom)"
      ],
      "execution_count": 0,
      "outputs": [
        {
          "output_type": "stream",
          "text": [
            "f1 score 0.13401245048104132\n",
            "accuracy 0.941422369901924\n",
            "precision score 0.7946308724832215\n",
            "recall_score 0.07317676143386898\n",
            "[[122370    153]\n",
            " [  7498    592]]\n"
          ],
          "name": "stdout"
        }
      ]
    },
    {
      "cell_type": "markdown",
      "metadata": {
        "id": "rYjQAkzUHfFs",
        "colab_type": "text"
      },
      "source": [
        "## K nearest neighbours"
      ]
    },
    {
      "cell_type": "code",
      "metadata": {
        "id": "-6Ew4WyuHjHM",
        "colab_type": "code",
        "outputId": "a5fafd83-02b0-4d9b-aeed-5530e4076567",
        "colab": {
          "base_uri": "https://localhost:8080/",
          "height": 69
        }
      },
      "source": [
        "from sklearn.neighbors import KNeighborsClassifier\n",
        "neigh = KNeighborsClassifier(n_neighbors=2)\n",
        "neigh.fit(train_vectors,y_train)"
      ],
      "execution_count": 0,
      "outputs": [
        {
          "output_type": "execute_result",
          "data": {
            "text/plain": [
              "KNeighborsClassifier(algorithm='auto', leaf_size=30, metric='minkowski',\n",
              "                     metric_params=None, n_jobs=None, n_neighbors=2, p=2,\n",
              "                     weights='uniform')"
            ]
          },
          "metadata": {
            "tags": []
          },
          "execution_count": 11
        }
      ]
    },
    {
      "cell_type": "code",
      "metadata": {
        "id": "7a__2IbzHuqC",
        "colab_type": "code",
        "outputId": "b2db988f-c40b-4177-d96f-5ea956e75da3",
        "colab": {
          "base_uri": "https://localhost:8080/",
          "height": 121
        }
      },
      "source": [
        "prediction = neigh.predict(test_vectors)\n",
        "print(\"f1 score {}\".format(f1_score(y_test,prediction)))\n",
        "print(\"accuracy {}\".format(accuracy_score(y_test,prediction)))\n",
        "print(\"precision score {}\".format(precision_score(y_test,prediction)))\n",
        "print(\"recall_score {}\".format(recall_score(y_test,prediction)))\n",
        "cm_custom = confusion_matrix(y_test,prediction)\n",
        "print(cm_custom)"
      ],
      "execution_count": 0,
      "outputs": [
        {
          "output_type": "stream",
          "text": [
            "f1 score 0.2114395238575608\n",
            "accuracy 0.9401514397494889\n",
            "precision score 0.5822222222222222\n",
            "recall_score 0.12917539751016888\n",
            "[[121748    752]\n",
            " [  7065   1048]]\n"
          ],
          "name": "stdout"
        }
      ]
    }
  ]
}