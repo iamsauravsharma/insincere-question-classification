{
  "nbformat": 4,
  "nbformat_minor": 0,
  "metadata": {
    "colab": {
      "name": "lemization .ipynb",
      "version": "0.3.2",
      "provenance": [],
      "include_colab_link": true
    },
    "kernelspec": {
      "name": "python3",
      "display_name": "Python 3"
    },
    "accelerator": "GPU"
  },
  "cells": [
    {
      "cell_type": "markdown",
      "metadata": {
        "id": "view-in-github",
        "colab_type": "text"
      },
      "source": [
        "<a href=\"https://colab.research.google.com/github/iamsauravsharma/insincere-question-classification/blob/bishal/lemization_.ipynb\" target=\"_parent\"><img src=\"https://colab.research.google.com/assets/colab-badge.svg\" alt=\"Open In Colab\"/></a>"
      ]
    },
    {
      "cell_type": "code",
      "metadata": {
        "id": "3QMZaTwiYIEU",
        "colab_type": "code",
        "outputId": "29d4b4c3-9ca3-43a3-bf4e-b13ea15878bd",
        "colab": {
          "resources": {
            "http://localhost:8080/nbextensions/google.colab/files.js": {
              "data": "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",
              "ok": true,
              "headers": [
                [
                  "content-type",
                  "application/javascript"
                ]
              ],
              "status": 200,
              "status_text": ""
            }
          },
          "base_uri": "https://localhost:8080/",
          "height": 278
        }
      },
      "source": [
        "!pip install kaggle\n",
        "from google.colab import files\n",
        "files.upload()\n"
      ],
      "execution_count": 2,
      "outputs": [
        {
          "output_type": "stream",
          "text": [
            "Requirement already satisfied: kaggle in /usr/local/lib/python3.6/dist-packages (1.5.3)\n",
            "Requirement already satisfied: six>=1.10 in /usr/local/lib/python3.6/dist-packages (from kaggle) (1.12.0)\n",
            "Requirement already satisfied: requests in /usr/local/lib/python3.6/dist-packages (from kaggle) (2.21.0)\n",
            "Requirement already satisfied: certifi in /usr/local/lib/python3.6/dist-packages (from kaggle) (2019.3.9)\n",
            "Requirement already satisfied: python-dateutil in /usr/local/lib/python3.6/dist-packages (from kaggle) (2.5.3)\n",
            "Requirement already satisfied: tqdm in /usr/local/lib/python3.6/dist-packages (from kaggle) (4.28.1)\n",
            "Requirement already satisfied: python-slugify in /usr/local/lib/python3.6/dist-packages (from kaggle) (3.0.2)\n",
            "Requirement already satisfied: urllib3<1.25,>=1.21.1 in /usr/local/lib/python3.6/dist-packages (from kaggle) (1.24.3)\n",
            "Requirement already satisfied: idna<2.9,>=2.5 in /usr/local/lib/python3.6/dist-packages (from requests->kaggle) (2.8)\n",
            "Requirement already satisfied: chardet<3.1.0,>=3.0.2 in /usr/local/lib/python3.6/dist-packages (from requests->kaggle) (3.0.4)\n",
            "Requirement already satisfied: text-unidecode==1.2 in /usr/local/lib/python3.6/dist-packages (from python-slugify->kaggle) (1.2)\n"
          ],
          "name": "stdout"
        },
        {
          "output_type": "display_data",
          "data": {
            "text/html": [
              "\n",
              "     <input type=\"file\" id=\"files-0780f26e-eaab-4f8f-829e-38c3e6466db5\" name=\"files[]\" multiple disabled />\n",
              "     <output id=\"result-0780f26e-eaab-4f8f-829e-38c3e6466db5\">\n",
              "      Upload widget is only available when the cell has been executed in the\n",
              "      current browser session. Please rerun this cell to enable.\n",
              "      </output>\n",
              "      <script src=\"/nbextensions/google.colab/files.js\"></script> "
            ],
            "text/plain": [
              "<IPython.core.display.HTML object>"
            ]
          },
          "metadata": {
            "tags": []
          }
        },
        {
          "output_type": "stream",
          "text": [
            "Saving kaggle.json to kaggle.json\n"
          ],
          "name": "stdout"
        },
        {
          "output_type": "execute_result",
          "data": {
            "text/plain": [
              "{'kaggle.json': b'{\"username\":\"bishalgaire360\",\"key\":\"69b39489849cd899eaa93339bad30cdb\"}'}"
            ]
          },
          "metadata": {
            "tags": []
          },
          "execution_count": 2
        }
      ]
    },
    {
      "cell_type": "code",
      "metadata": {
        "id": "C9GabNqPYS95",
        "colab_type": "code",
        "outputId": "9acba972-d9af-4543-a528-2709477c3646",
        "colab": {
          "base_uri": "https://localhost:8080/",
          "height": 272
        }
      },
      "source": [
        "!mkdir -p ~/.kaggle\n",
        "!cp kaggle.json ~/.kaggle/\n",
        "!chmod 600 ~/.kaggle/kaggle.json\n",
        "!kaggle competitions download -c quora-insincere-questions-classification\n",
        "from zipfile import ZipFile\n",
        "file_name=\"train.csv.zip\"\n",
        "#file_name=\"embeddings.zip\"\n",
        "with ZipFile(file_name,'r') as zip:\n",
        "    zip.extractall()\n",
        "    print('Done')\n",
        "file_name=\"embeddings.zip\"\n",
        "with ZipFile(file_name,'r') as zip:\n",
        "    zip.extractall()\n",
        "    print('Done')\n",
        "import pandas as pd\n",
        "from tqdm import tqdm\n",
        "tqdm.pandas()\n",
        "df=pd.read_csv('train.csv')\n",
        "from tqdm import tqdm_notebook\n",
        "import numpy as np\n",
        "emb_file = \"glove.840B.300d/glove.840B.300d.txt\"\n",
        "#emb_file =\"GoogleNews-vectors-negative300/GoogleNews-vectors-negative300.bin\"\n",
        "glove_dic = {}\n",
        "for line in tqdm_notebook(open(emb_file)):\n",
        "    temp = line.split(\" \")\n",
        "    glove_dic[temp[0]] = np.asarray(temp[1:],dtype='float32')\n",
        "\n",
        "del df['qid']\n",
        "\n"
      ],
      "execution_count": 3,
      "outputs": [
        {
          "output_type": "stream",
          "text": [
            "Downloading train.csv.zip to /content\n",
            " 75% 41.0M/54.4M [00:00<00:00, 33.9MB/s]\n",
            "100% 54.4M/54.4M [00:00<00:00, 65.8MB/s]\n",
            "Downloading embeddings.zip to /content\n",
            "100% 5.95G/5.96G [00:50<00:00, 128MB/s]\n",
            "100% 5.96G/5.96G [00:50<00:00, 126MB/s]\n",
            "Downloading sample_submission.csv.zip to /content\n",
            "  0% 0.00/4.08M [00:00<?, ?B/s]\n",
            "100% 4.08M/4.08M [00:00<00:00, 37.5MB/s]\n",
            "Downloading test.csv.zip to /content\n",
            " 57% 9.00M/15.7M [00:00<00:00, 24.4MB/s]\n",
            "100% 15.7M/15.7M [00:00<00:00, 35.4MB/s]\n",
            "Done\n",
            "Done\n"
          ],
          "name": "stdout"
        },
        {
          "output_type": "display_data",
          "data": {
            "application/vnd.jupyter.widget-view+json": {
              "model_id": "5a08b456b9f14b3f9e8deadfef82090b",
              "version_minor": 0,
              "version_major": 2
            },
            "text/plain": [
              "HBox(children=(IntProgress(value=1, bar_style='info', max=1), HTML(value='')))"
            ]
          },
          "metadata": {
            "tags": []
          }
        },
        {
          "output_type": "stream",
          "text": [
            "\n"
          ],
          "name": "stdout"
        }
      ]
    },
    {
      "cell_type": "code",
      "metadata": {
        "id": "QBUjXY56YboC",
        "colab_type": "code",
        "outputId": "d4969cf4-7c01-44c2-afde-32f5aa4a1714",
        "colab": {
          "base_uri": "https://localhost:8080/",
          "height": 136
        }
      },
      "source": [
        "#df=pd.read_csv('train.csv')\n",
        "import nltk\n",
        "nltk.download('stopwords')\n",
        "nltk.download('punkt')\n",
        "nltk.download('wordnet')\n",
        "\n",
        "#from nltk.corpus import stopwords\n",
        "#stop = stopwords.words('english')\n",
        "#df[\"question_text\"] = df[\"question_text\"].apply(lambda x:' '.join(x for x in x.split() if not x in stop))"
      ],
      "execution_count": 16,
      "outputs": [
        {
          "output_type": "stream",
          "text": [
            "[nltk_data] Downloading package stopwords to /root/nltk_data...\n",
            "[nltk_data]   Package stopwords is already up-to-date!\n",
            "[nltk_data] Downloading package punkt to /root/nltk_data...\n",
            "[nltk_data]   Package punkt is already up-to-date!\n",
            "[nltk_data] Downloading package wordnet to /root/nltk_data...\n",
            "[nltk_data]   Package wordnet is already up-to-date!\n"
          ],
          "name": "stdout"
        },
        {
          "output_type": "execute_result",
          "data": {
            "text/plain": [
              "True"
            ]
          },
          "metadata": {
            "tags": []
          },
          "execution_count": 16
        }
      ]
    },
    {
      "cell_type": "code",
      "metadata": {
        "id": "zpMQRRTRbphZ",
        "colab_type": "code",
        "colab": {}
      },
      "source": [
        "def build_vocab(sentences, verbose =  True):\n",
        "    \"\"\"\n",
        "    :param sentences: list of list of words\n",
        "    :return: dictionary of words and their count\n",
        "    \"\"\"\n",
        "    vocab = {}\n",
        "    for sentence in tqdm(sentences, disable = (not verbose)):\n",
        "        for word in sentence:\n",
        "            try:\n",
        "                vocab[word] += 1\n",
        "            except KeyError:\n",
        "                vocab[word] = 1\n",
        "    return vocab"
      ],
      "execution_count": 0,
      "outputs": []
    },
    {
      "cell_type": "code",
      "metadata": {
        "id": "VwE4P7C8qG62",
        "colab_type": "code",
        "outputId": "72272f08-ddfb-4212-820f-c3326dad25cc",
        "colab": {
          "base_uri": "https://localhost:8080/",
          "height": 51
        }
      },
      "source": [
        "sentences = df[\"question_text\"].progress_apply(lambda x: x.split()).values\n",
        "vocab = build_vocab(sentences)"
      ],
      "execution_count": 0,
      "outputs": [
        {
          "output_type": "stream",
          "text": [
            "100%|██████████| 1306122/1306122 [00:05<00:00, 248702.76it/s]\n",
            "100%|██████████| 1306122/1306122 [00:03<00:00, 365722.15it/s]\n"
          ],
          "name": "stderr"
        }
      ]
    },
    {
      "cell_type": "code",
      "metadata": {
        "id": "NIGTwBr5whaU",
        "colab_type": "code",
        "colab": {}
      },
      "source": [
        "import operator \n",
        "\n",
        "def check_coverage(vocab,embeddings_index):\n",
        "    a = {}\n",
        "    oov = {}\n",
        "    k = 0\n",
        "    i = 0\n",
        "    for word in tqdm(vocab):\n",
        "        try:\n",
        "            a[word] = embeddings_index[word]\n",
        "            k += vocab[word]\n",
        "        except:\n",
        "\n",
        "            oov[word] = vocab[word]\n",
        "            i += vocab[word]\n",
        "            pass\n",
        "\n",
        "    print('Found embeddings for {:.2%} of vocab'.format(len(a) / len(vocab)))\n",
        "    print('Found embeddings for  {:.2%} of all text'.format(k / (k + i)))\n",
        "    sorted_x = sorted(oov.items(), key=operator.itemgetter(1))[::-1]\n",
        "\n",
        "    return sorted_x"
      ],
      "execution_count": 0,
      "outputs": []
    },
    {
      "cell_type": "code",
      "metadata": {
        "id": "nm5FvVlUwofP",
        "colab_type": "code",
        "colab": {}
      },
      "source": [
        "#oov = check_coverage(vocab,glove_dic)\n",
        "del df['qid']"
      ],
      "execution_count": 0,
      "outputs": []
    },
    {
      "cell_type": "code",
      "metadata": {
        "id": "0M7VfV_Zw8Al",
        "colab_type": "code",
        "outputId": "4bc7ae01-3b1d-43d4-c7a0-b3588d3a976c",
        "colab": {
          "base_uri": "https://localhost:8080/",
          "height": 34
        }
      },
      "source": [
        "len(vocab)"
      ],
      "execution_count": 0,
      "outputs": [
        {
          "output_type": "execute_result",
          "data": {
            "text/plain": [
              "298080"
            ]
          },
          "metadata": {
            "tags": []
          },
          "execution_count": 30
        }
      ]
    },
    {
      "cell_type": "code",
      "metadata": {
        "id": "JfYnr-xxw-m4",
        "colab_type": "code",
        "outputId": "5a11aba6-4d57-4f9a-9794-7d1bb01650e0",
        "colab": {
          "base_uri": "https://localhost:8080/",
          "height": 34
        }
      },
      "source": [
        "def clean_text(x):\n",
        "\n",
        "    x = str(x)\n",
        "    #for punct in \"/-'\":\n",
        "     #   x = x.replace(punct, ' ')\n",
        "    #for punct in '&':\n",
        "     #   x = x.replace(punct, f' {punct} ')\n",
        "    for punct in '?!.,\"#$%\\'()+-/:;<=>@[\\\\]^_`{|}~' + '“”’':\n",
        "    #for punct in '?':\n",
        "        x = x.replace(punct, '')\n",
        "    return x\n",
        "df[\"question_text\"] = df[\"question_text\"].progress_apply(lambda x: clean_text(x))"
      ],
      "execution_count": 17,
      "outputs": [
        {
          "output_type": "stream",
          "text": [
            "100%|██████████| 1306122/1306122 [00:11<00:00, 111002.97it/s]\n"
          ],
          "name": "stderr"
        }
      ]
    },
    {
      "cell_type": "code",
      "metadata": {
        "id": "vua9q7zBzNbA",
        "colab_type": "code",
        "outputId": "79b3a6da-d9d1-4345-b6c1-079559e055e3",
        "colab": {
          "base_uri": "https://localhost:8080/",
          "height": 34
        }
      },
      "source": [
        "len(oov)"
      ],
      "execution_count": 0,
      "outputs": [
        {
          "output_type": "execute_result",
          "data": {
            "text/plain": [
              "113904"
            ]
          },
          "metadata": {
            "tags": []
          },
          "execution_count": 31
        }
      ]
    },
    {
      "cell_type": "code",
      "metadata": {
        "id": "pz8cdmZ-Ynoo",
        "colab_type": "code",
        "colab": {
          "base_uri": "https://localhost:8080/",
          "height": 1071
        },
        "outputId": "f4ca3710-a252-4f9b-f52c-f3cba1361d46"
      },
      "source": [
        "from nltk.tokenize import word_tokenize\n",
        "df.apply(lambda row: nltk.word_tokenize(row['question_text']), axis=1)\n"
      ],
      "execution_count": 10,
      "outputs": [
        {
          "output_type": "execute_result",
          "data": {
            "text/plain": [
              "0          [How, did, Quebec, nationalists, see, their, p...\n",
              "1          [Do, you, have, an, adopted, dog, how, would, ...\n",
              "2          [Why, does, velocity, affect, time, Does, velo...\n",
              "3          [How, did, Otto, von, Guericke, used, the, Mag...\n",
              "4          [Can, I, convert, montra, helicon, D, to, a, m...\n",
              "5          [Is, Gaza, slowly, becoming, Auschwitz, Dachau...\n",
              "6          [Why, does, Quora, automatically, ban, conserv...\n",
              "7          [Is, it, crazy, if, I, wash, or, wipe, my, gro...\n",
              "8          [Is, there, such, a, thing, as, dressing, mode...\n",
              "9          [Is, it, just, me, or, have, you, ever, been, ...\n",
              "10                    [What, can, you, say, about, feminism]\n",
              "11                [How, were, the, Calgary, Flames, founded]\n",
              "12         [What, is, the, dumbest, yet, possibly, true, ...\n",
              "13         [Can, we, use, our, external, hard, disk, as, ...\n",
              "14         [I, am, 30, living, at, home, and, have, no, b...\n",
              "15         [What, do, you, know, about, Bram, Fischer, an...\n",
              "16         [How, difficult, is, it, to, find, a, good, in...\n",
              "17             [Have, you, licked, the, skin, of, a, corpse]\n",
              "18         [Do, you, think, Amazon, will, adopt, an, in, ...\n",
              "19         [How, many, baronies, might, exist, within, a,...\n",
              "20         [How, I, know, whether, a, girl, had, done, se...\n",
              "21         [How, do, I, become, a, fast, learner, both, i...\n",
              "22         [Has, the, United, States, become, the, larges...\n",
              "23         [What, is, the, strangest, phenomenon, you, kn...\n",
              "24         [Should, I, leave, my, friends, and, find, new...\n",
              "25         [Can, you, make, Amazon, Alexa, trigger, event...\n",
              "26         [Why, havent, two, democracies, never, ever, w...\n",
              "27                   [How, can, I, top, CBSE, in, 6, months]\n",
              "28         [What, should, I, know, before, visiting, Mcle...\n",
              "29         [How, do, modern, military, submarines, reduce...\n",
              "                                 ...                        \n",
              "1306092    [I, hardly, talk, about, my, interests, readin...\n",
              "1306093    [How, is, it, to, have, intimate, relation, wi...\n",
              "1306094    [Why, is, it, when, singers, have, lyrics, abo...\n",
              "1306095    [Does, the, ginger, plant, naturally, contain,...\n",
              "1306096    [Are, technological, advances, in, medicine, d...\n",
              "1306097    [Can, I, pass, class, 11, math, if, I, have, 8...\n",
              "1306098    [Do, you, think, that, the, physical, traits, ...\n",
              "1306099             [Do, pakis, smell, of, curry, and, shit]\n",
              "1306100    [On, Quora, is, it, as, good, as, downvoting, ...\n",
              "1306101               [Are, the, Wahabis, Muslims, puritans]\n",
              "1306102    [What, steps, can, I, take, to, live, a, norma...\n",
              "1306103    [Isnt, Trump, right, after, all, Why, should, ...\n",
              "1306104    [Is, 33, too, late, for, a, career, in, creati...\n",
              "1306105    [What, is, difference, between, the, filterati...\n",
              "1306106    [If, the, universe, popped, into, existence, f...\n",
              "1306107    [How, does, a, shared, service, technology, te...\n",
              "1306108                 [How, is, DSATM, civil, engineering]\n",
              "1306109    [Do, you, know, any, problem, that, depends, s...\n",
              "1306110    [What, are, some, comic, ideas, for, you, Tube...\n",
              "1306111    [If, you, had, 10, million, of, Bitcoin, could...\n",
              "1306112           [Are, you, ashamed, of, being, an, Indian]\n",
              "1306113    [What, are, the, methods, to, determine, fossi...\n",
              "1306114                       [What, is, your, story, today]\n",
              "1306115    [How, do, I, consume, 150, gms, protein, daily...\n",
              "1306116    [What, are, the, good, career, options, for, a...\n",
              "1306117    [What, other, technical, skills, do, you, need...\n",
              "1306118    [Does, MS, in, ECE, have, good, job, prospects...\n",
              "1306119                        [Is, foam, insulation, toxic]\n",
              "1306120    [How, can, one, start, a, research, project, b...\n",
              "1306121    [Who, wins, in, a, battle, between, a, Wolveri...\n",
              "Length: 1306122, dtype: object"
            ]
          },
          "metadata": {
            "tags": []
          },
          "execution_count": 10
        }
      ]
    },
    {
      "cell_type": "code",
      "metadata": {
        "id": "BUH8YHt7fpmH",
        "colab_type": "code",
        "colab": {}
      },
      "source": [
        "w_tokenizer = nltk.tokenize.WhitespaceTokenizer()\n",
        "lemmatizer = nltk.stem.WordNetLemmatizer()\n",
        "\n",
        "def lemmatize_text(text):\n",
        "    return [lemmatizer.lemmatize(w) for w in w_tokenizer.tokenize(text)]\n",
        "\n",
        "#df = pd.DataFrame(['this was cheesy', 'she likes these books', 'wow this is great'], columns=['text'])\n",
        "df['question_text'] = df.question_text.apply(lemmatize_text)\n",
        "\n"
      ],
      "execution_count": 0,
      "outputs": []
    },
    {
      "cell_type": "code",
      "metadata": {
        "id": "Uk43y9lUmMg1",
        "colab_type": "code",
        "colab": {
          "base_uri": "https://localhost:8080/",
          "height": 142
        },
        "outputId": "11253f6c-df0c-40c7-8837-905d5285b197"
      },
      "source": [
        ""
      ],
      "execution_count": 12,
      "outputs": [
        {
          "output_type": "execute_result",
          "data": {
            "text/html": [
              "<div>\n",
              "<style scoped>\n",
              "    .dataframe tbody tr th:only-of-type {\n",
              "        vertical-align: middle;\n",
              "    }\n",
              "\n",
              "    .dataframe tbody tr th {\n",
              "        vertical-align: top;\n",
              "    }\n",
              "\n",
              "    .dataframe thead th {\n",
              "        text-align: right;\n",
              "    }\n",
              "</style>\n",
              "<table border=\"1\" class=\"dataframe\">\n",
              "  <thead>\n",
              "    <tr style=\"text-align: right;\">\n",
              "      <th></th>\n",
              "      <th>text</th>\n",
              "    </tr>\n",
              "  </thead>\n",
              "  <tbody>\n",
              "    <tr>\n",
              "      <th>0</th>\n",
              "      <td>this was cheesy</td>\n",
              "    </tr>\n",
              "    <tr>\n",
              "      <th>1</th>\n",
              "      <td>she likes these books</td>\n",
              "    </tr>\n",
              "    <tr>\n",
              "      <th>2</th>\n",
              "      <td>wow this is great</td>\n",
              "    </tr>\n",
              "  </tbody>\n",
              "</table>\n",
              "</div>"
            ],
            "text/plain": [
              "                    text\n",
              "0        this was cheesy\n",
              "1  she likes these books\n",
              "2      wow this is great"
            ]
          },
          "metadata": {
            "tags": []
          },
          "execution_count": 12
        }
      ]
    },
    {
      "cell_type": "code",
      "metadata": {
        "id": "zE1lo_KRmaJE",
        "colab_type": "code",
        "colab": {
          "base_uri": "https://localhost:8080/",
          "height": 85
        },
        "outputId": "cd18ab88-9e6a-43cd-866f-b33387416f80"
      },
      "source": [
        "df['text_lemmatized']"
      ],
      "execution_count": 15,
      "outputs": [
        {
          "output_type": "execute_result",
          "data": {
            "text/plain": [
              "0          [this, wa, cheesy]\n",
              "1    [she, like, these, book]\n",
              "2      [wow, this, is, great]\n",
              "Name: text_lemmatized, dtype: object"
            ]
          },
          "metadata": {
            "tags": []
          },
          "execution_count": 15
        }
      ]
    },
    {
      "cell_type": "code",
      "metadata": {
        "id": "qGy8a04Nxk90",
        "colab_type": "code",
        "colab": {}
      },
      "source": [
        "from keras.preprocessing.text import Tokenizer\n",
        "from keras.preprocessing.sequence import pad_sequences\n",
        "from sklearn.model_selection import train_test_split\n",
        "\n",
        "train, val = train_test_split(df, test_size=0.1, random_state=42)\n",
        "n_words = 50000\n",
        "tokenizer = Tokenizer(num_words=n_words)\n",
        "tokenizer.fit_on_texts(list(train.question_text))\n",
        "\n",
        "q_train = tokenizer.texts_to_sequences(train.question_text)\n",
        "q_val = tokenizer.texts_to_sequences(val.question_text)\n",
        "#q_test = tokenizer.texts_to_sequences(df_test.question_text)\n",
        "\n",
        "max_len = 100\n",
        "q_train = pad_sequences(q_train,maxlen=max_len)\n",
        "q_val = pad_sequences(q_val,maxlen=max_len)\n",
        "#q_test = pad_sequences(q_test,maxlen=max_len)\n",
        "\n",
        "y_train = train.target\n",
        "y_val = val.target\n",
        "\n",
        "del train,val\n",
        "word_index = tokenizer.word_index\n",
        "emb_size = glove_dic['.'].shape[0]\n",
        "emb_matrix = np.zeros((n_words,emb_size))\n",
        "for w,index in word_index.items():\n",
        "    if index >= n_words:\n",
        "        continue\n",
        "    vec = glove_dic.get(w)\n",
        "    if vec is not None:\n",
        "        emb_matrix[index,:] = vec\n",
        "\n"
      ],
      "execution_count": 0,
      "outputs": []
    },
    {
      "cell_type": "code",
      "metadata": {
        "id": "aJaicVseyzWF",
        "colab_type": "code",
        "colab": {}
      },
      "source": [
        "from keras import backend as K\n",
        "def f1(y_true, y_pred):\n",
        "    def recall(y_true, y_pred):\n",
        "        \"\"\"Recall metric.\n",
        "\n",
        "        Only computes a batch-wise average of recall.\n",
        "\n",
        "        Computes the recall, a metric for multi-label classification of\n",
        "        how many relevant items are selected.\n",
        "        \"\"\"\n",
        "        true_positives = K.sum(K.round(K.clip(y_true * y_pred, 0, 1)))\n",
        "        possible_positives = K.sum(K.round(K.clip(y_true, 0, 1)))\n",
        "        recall = true_positives / (possible_positives + K.epsilon())\n",
        "        return recall\n",
        "\n",
        "    def precision(y_true, y_pred):\n",
        "        \"\"\"Precision metric.\n",
        "\n",
        "        Only computes a batch-wise average of precision.\n",
        "\n",
        "        Computes the precision, a metric for multi-label classification of\n",
        "        how many selected items are relevant.\n",
        "        \"\"\"\n",
        "        true_positives = K.sum(K.round(K.clip(y_true * y_pred, 0, 1)))\n",
        "        predicted_positives = K.sum(K.round(K.clip(y_pred, 0, 1)))\n",
        "        precision = true_positives / (predicted_positives + K.epsilon())\n",
        "        return precision\n",
        "    precision = precision(y_true, y_pred)\n",
        "    recall = recall(y_true, y_pred)\n",
        "    return 2*((precision*recall)/(precision+recall+K.epsilon()))\n",
        "\n",
        "#find the best threshold\n",
        "def optim_thres(y_val,y_pred):\n",
        "    score = 0\n",
        "    thresholds = np.arange(0.1,0.501,0.01)\n",
        "    for thres in thresholds:\n",
        "        thres = np.round(thres,2)\n",
        "        temp_pred = (y_pred > thres).astype(int)\n",
        "        temp_score = f1_score(y_val,temp_pred)\n",
        "        print(\"Thres: {} --------- F1: {}\".format(thres,temp_score))\n",
        "        if temp_score > score:\n",
        "            score = temp_score\n",
        "            final_thres = thres\n",
        "    return final_thres"
      ],
      "execution_count": 0,
      "outputs": []
    },
    {
      "cell_type": "code",
      "metadata": {
        "id": "BE1gJwJ31faU",
        "colab_type": "code",
        "colab": {}
      },
      "source": [
        "from sklearn.model_selection import train_test_split\n",
        "from sklearn.model_selection import train_test_split\n",
        "from sklearn.metrics import f1_score\n",
        "import gensim as gn\n",
        "from tqdm import tqdm_notebook\n",
        "\n",
        "from keras.layers import LSTM,Bidirectional,TimeDistributed, Embedding,Dense,Input,GlobalMaxPool1D,Flatten,Dropout\n",
        "from keras.layers import CuDNNLSTM,CuDNNGRU\n",
        "from keras.models import Sequential,Model\n",
        "from keras.preprocessing.text import Tokenizer\n",
        "from keras.preprocessing.sequence import pad_sequences\n",
        "from keras.callbacks import ModelCheckpoint\n",
        "from keras import backend as K\n",
        "from keras.optimizers import Adam,Adamax\n",
        "from keras.engine.topology import Layer\n",
        "from keras import initializers, regularizers, constraints\n",
        "\n",
        "\n",
        "class Attention(Layer):\n",
        "    def __init__(self, step_dim,\n",
        "                 W_regularizer=None, b_regularizer=None,\n",
        "                 W_constraint=None, b_constraint=None,\n",
        "                 bias=True, **kwargs):\n",
        "        self.supports_masking = True\n",
        "        self.init = initializers.get('glorot_uniform')\n",
        "\n",
        "        self.W_regularizer = regularizers.get(W_regularizer)\n",
        "        self.b_regularizer = regularizers.get(b_regularizer)\n",
        "\n",
        "        self.W_constraint = constraints.get(W_constraint)\n",
        "        self.b_constraint = constraints.get(b_constraint)\n",
        "\n",
        "        self.bias = bias\n",
        "        self.step_dim = step_dim\n",
        "        self.features_dim = 0\n",
        "        super(Attention, self).__init__(**kwargs)\n",
        "        \n",
        "    def build(self, input_shape):\n",
        "        assert len(input_shape) == 3\n",
        "\n",
        "        self.W = self.add_weight((input_shape[-1],),\n",
        "                                 initializer=self.init,\n",
        "                                 name='{}_W'.format(self.name),\n",
        "                                 regularizer=self.W_regularizer,\n",
        "                                 constraint=self.W_constraint)\n",
        "        self.features_dim = input_shape[-1]\n",
        "\n",
        "        if self.bias:\n",
        "            self.b = self.add_weight((input_shape[1],),\n",
        "                                     initializer='zero',\n",
        "                                     name='{}_b'.format(self.name),\n",
        "                                     regularizer=self.b_regularizer,\n",
        "                                     constraint=self.b_constraint)\n",
        "        else:\n",
        "            self.b = None\n",
        "\n",
        "        self.built = True\n",
        "        \n",
        "    def compute_mask(self, input, input_mask=None):\n",
        "        return None\n",
        "\n",
        "    def call(self, x, mask=None):\n",
        "        \n",
        "        features_dim = self.features_dim\n",
        "        step_dim = self.step_dim\n",
        "\n",
        "        eij = K.reshape(K.dot(K.reshape(x, (-1, features_dim)),\n",
        "                        K.reshape(self.W, (features_dim, 1))), (-1, step_dim))\n",
        "\n",
        "        if self.bias:\n",
        "            eij += self.b\n",
        "\n",
        "        eij = K.tanh(eij)\n",
        "\n",
        "        a = K.exp(eij)\n",
        "\n",
        "        if mask is not None:\n",
        "            a *= K.cast(mask, K.floatx())\n",
        "\n",
        "        a /= K.cast(K.sum(a, axis=1, keepdims=True) + K.epsilon(), K.floatx())\n",
        "\n",
        "        a = K.expand_dims(a)\n",
        "        weighted_input = x * a\n",
        "        return K.sum(weighted_input, axis=1)\n",
        "    def compute_output_shape(self, input_shape):\n",
        "        return input_shape[0], self.features_dim"
      ],
      "execution_count": 0,
      "outputs": []
    },
    {
      "cell_type": "code",
      "metadata": {
        "id": "m4njXEUR1Dpj",
        "colab_type": "code",
        "colab": {}
      },
      "source": [
        "from keras.models import Model\n",
        "from keras.layers import Input, Dense\n",
        "from keras.layers import LSTM,Bidirectional,TimeDistributed, Embedding,Dense,Input,GlobalMaxPool1D,Flatten,Dropout,Conv1D\n",
        "from keras.layers import CuDNNLSTM,CuDNNGRU\n",
        "from keras.models import Sequential\n",
        "from keras.callbacks import ModelCheckpoint\n",
        "from keras.layers import Embedding,Flatten,Dense\n",
        "from keras.optimizers import Adam,Adamax\n",
        "from keras.engine.topology import Layer\n",
        "from keras.layers.normalization import BatchNormalization\n"
      ],
      "execution_count": 0,
      "outputs": []
    },
    {
      "cell_type": "code",
      "metadata": {
        "id": "o9QooTdY1LPO",
        "colab_type": "code",
        "outputId": "4b9a20bb-3b57-4955-8128-8b657a5b73d1",
        "colab": {
          "base_uri": "https://localhost:8080/",
          "height": 564
        }
      },
      "source": [
        "inp = Input(shape=(max_len,))\n",
        "x = Embedding(input_dim=n_words,output_dim=emb_size, weights=[emb_matrix])(inp)\n",
        "#x = Embedding(input_dim=n_words,output_dim=embed_size, weights=[embedding_matrix])(inp)\n",
        "#x = Bidirectional(CuDNNLSTM(100, return_sequences=True))(x)\n",
        "x = Bidirectional(CuDNNLSTM(100, return_sequences=True))(x)\n",
        "x =  Bidirectional(CuDNNGRU(100,return_sequences=True))(x)\n",
        "x = Attention(step_dim=max_len)(x)\n",
        "x = Dense(36,activation='relu')(x)\n",
        "x = Dropout(0.1)(x)\n",
        "x = Dense(1, activation='sigmoid')(x)\n",
        "model = Model(inputs=inp,output=x)\n",
        "model.summary()"
      ],
      "execution_count": 24,
      "outputs": [
        {
          "output_type": "stream",
          "text": [
            "WARNING:tensorflow:From /usr/local/lib/python3.6/dist-packages/tensorflow/python/framework/op_def_library.py:263: colocate_with (from tensorflow.python.framework.ops) is deprecated and will be removed in a future version.\n",
            "Instructions for updating:\n",
            "Colocations handled automatically by placer.\n",
            "WARNING:tensorflow:From /usr/local/lib/python3.6/dist-packages/keras/backend/tensorflow_backend.py:3445: calling dropout (from tensorflow.python.ops.nn_ops) with keep_prob is deprecated and will be removed in a future version.\n",
            "Instructions for updating:\n",
            "Please use `rate` instead of `keep_prob`. Rate should be set to `rate = 1 - keep_prob`.\n",
            "_________________________________________________________________\n",
            "Layer (type)                 Output Shape              Param #   \n",
            "=================================================================\n",
            "input_1 (InputLayer)         (None, 100)               0         \n",
            "_________________________________________________________________\n",
            "embedding_1 (Embedding)      (None, 100, 300)          15000000  \n",
            "_________________________________________________________________\n",
            "bidirectional_1 (Bidirection (None, 100, 200)          321600    \n",
            "_________________________________________________________________\n",
            "bidirectional_2 (Bidirection (None, 100, 200)          181200    \n",
            "_________________________________________________________________\n",
            "attention_1 (Attention)      (None, 200)               300       \n",
            "_________________________________________________________________\n",
            "dense_1 (Dense)              (None, 36)                7236      \n",
            "_________________________________________________________________\n",
            "dropout_1 (Dropout)          (None, 36)                0         \n",
            "_________________________________________________________________\n",
            "dense_2 (Dense)              (None, 1)                 37        \n",
            "=================================================================\n",
            "Total params: 15,510,373\n",
            "Trainable params: 15,510,373\n",
            "Non-trainable params: 0\n",
            "_________________________________________________________________\n"
          ],
          "name": "stdout"
        },
        {
          "output_type": "stream",
          "text": [
            "/usr/local/lib/python3.6/dist-packages/ipykernel_launcher.py:11: UserWarning: Update your `Model` call to the Keras 2 API: `Model(inputs=Tensor(\"in..., outputs=Tensor(\"de...)`\n",
            "  # This is added back by InteractiveShellApp.init_path()\n"
          ],
          "name": "stderr"
        }
      ]
    },
    {
      "cell_type": "code",
      "metadata": {
        "id": "6mT5nEi21SON",
        "colab_type": "code",
        "outputId": "f358bd7e-befc-4ca7-cd8f-c27ccab6b9d7",
        "colab": {
          "base_uri": "https://localhost:8080/",
          "height": 581
        }
      },
      "source": [
        "model_name = 'lstm_glove_emb'\n",
        "checkpoint = ModelCheckpoint(filepath='./{}.hdf5'.format(model_name),\n",
        "                             monitor='val_f1',mode='max',verbose=1,\n",
        "                            save_best_only=True)\n",
        "\n",
        "adamax= Adamax(lr=0.002, beta_1=0.9, beta_2=0.999, epsilon=None, decay=0.0)\n",
        "model.compile(loss='binary_crossentropy', optimizer='adamax', metrics=['acc',f1])\n",
        "history  = model.fit(q_train,y_train,batch_size=1500,epochs=7,\n",
        "                     validation_data=(q_val,y_val),verbose=1,callbacks=[checkpoint])"
      ],
      "execution_count": 0,
      "outputs": [
        {
          "output_type": "stream",
          "text": [
            "WARNING:tensorflow:From /usr/local/lib/python3.6/dist-packages/tensorflow/python/ops/math_ops.py:3066: to_int32 (from tensorflow.python.ops.math_ops) is deprecated and will be removed in a future version.\n",
            "Instructions for updating:\n",
            "Use tf.cast instead.\n",
            "Train on 1175509 samples, validate on 130613 samples\n",
            "Epoch 1/7\n",
            "1175509/1175509 [==============================] - 239s 203us/step - loss: 0.1224 - acc: 0.9530 - f1: 0.5476 - val_loss: 0.1042 - val_acc: 0.9586 - val_f1: 0.6181\n",
            "\n",
            "Epoch 00001: val_f1 improved from -inf to 0.61807, saving model to ./lstm_glove_emb.hdf5\n",
            "Epoch 2/7\n",
            "1175509/1175509 [==============================] - 247s 210us/step - loss: 0.1033 - acc: 0.9589 - f1: 0.6349 - val_loss: 0.1002 - val_acc: 0.9599 - val_f1: 0.6389\n",
            "\n",
            "Epoch 00002: val_f1 improved from 0.61807 to 0.63885, saving model to ./lstm_glove_emb.hdf5\n",
            "Epoch 3/7\n",
            "1175509/1175509 [==============================] - 248s 211us/step - loss: 0.0973 - acc: 0.9611 - f1: 0.6623 - val_loss: 0.0987 - val_acc: 0.9600 - val_f1: 0.6467\n",
            "\n",
            "Epoch 00003: val_f1 improved from 0.63885 to 0.64673, saving model to ./lstm_glove_emb.hdf5\n",
            "Epoch 4/7\n",
            "1175509/1175509 [==============================] - 247s 210us/step - loss: 0.0922 - acc: 0.9629 - f1: 0.6841 - val_loss: 0.0988 - val_acc: 0.9608 - val_f1: 0.6554\n",
            "\n",
            "Epoch 00004: val_f1 improved from 0.64673 to 0.65538, saving model to ./lstm_glove_emb.hdf5\n",
            "Epoch 5/7\n",
            "1175509/1175509 [==============================] - 247s 211us/step - loss: 0.0871 - acc: 0.9648 - f1: 0.7036 - val_loss: 0.1003 - val_acc: 0.9608 - val_f1: 0.6429\n",
            "\n",
            "Epoch 00005: val_f1 did not improve from 0.65538\n",
            "Epoch 6/7\n",
            "1175509/1175509 [==============================] - 248s 211us/step - loss: 0.0822 - acc: 0.9668 - f1: 0.7239 - val_loss: 0.1032 - val_acc: 0.9604 - val_f1: 0.6428\n",
            "\n",
            "Epoch 00006: val_f1 did not improve from 0.65538\n",
            "Epoch 7/7\n",
            "1175509/1175509 [==============================] - 248s 211us/step - loss: 0.0770 - acc: 0.9690 - f1: 0.7438 - val_loss: 0.1067 - val_acc: 0.9590 - val_f1: 0.6561\n",
            "\n",
            "Epoch 00007: val_f1 improved from 0.65538 to 0.65610, saving model to ./lstm_glove_emb.hdf5\n"
          ],
          "name": "stdout"
        }
      ]
    },
    {
      "cell_type": "code",
      "metadata": {
        "id": "UOTTorOQ1tOs",
        "colab_type": "code",
        "outputId": "8f65dcd5-9977-4d6c-b3da-e12d0a2a2db7",
        "colab": {
          "base_uri": "https://localhost:8080/",
          "height": 573
        }
      },
      "source": [
        "import matplotlib.pyplot as plt\n",
        "plt.plot(history.history['f1'])\n",
        "plt.plot(history.history['val_f1'])\n",
        "plt.title('Model accuracy')\n",
        "plt.ylabel('F1')\n",
        "plt.xlabel('Epoch')\n",
        "plt.legend(['Train', 'Test'], loc='upper left')\n",
        "plt.show()\n",
        "plt.plot(history.history['loss'])\n",
        "plt.plot(history.history['val_loss'])\n",
        "plt.title('Loss')\n",
        "plt.ylabel('loss')\n",
        "plt.xlabel('Epoch')\n",
        "plt.legend(['Train', 'Test'], loc='upper left')\n",
        "plt.show()"
      ],
      "execution_count": 0,
      "outputs": [
        {
          "output_type": "display_data",
          "data": {
            "image/png": "[encoded data removed]",
            "text/plain": [
              "<Figure size 432x288 with 1 Axes>"
            ]
          },
          "metadata": {
            "tags": []
          }
        },
        {
          "output_type": "display_data",
          "data": {
            "image/png": "[encoded data removed]",
            "text/plain": [
              "<Figure size 432x288 with 1 Axes>"
            ]
          },
          "metadata": {
            "tags": []
          }
        }
      ]
    },
    {
      "cell_type": "code",
      "metadata": {
        "id": "75wNez1tFfg1",
        "colab_type": "code",
        "colab": {
          "base_uri": "https://localhost:8080/",
          "height": 581
        },
        "outputId": "69d54d9b-4275-4e6d-a022-546b49143d06"
      },
      "source": [
        "#after lemization\n",
        "model_name = 'lstm_glove_emb'\n",
        "checkpoint = ModelCheckpoint(filepath='./{}.hdf5'.format(model_name),\n",
        "                             monitor='val_f1',mode='max',verbose=1,\n",
        "                            save_best_only=True)\n",
        "\n",
        "adamax= Adamax(lr=0.001, beta_1=0.9, beta_2=0.999, epsilon=None, decay=0.0)\n",
        "model.compile(loss='binary_crossentropy', optimizer='adamax', metrics=['acc',f1])\n",
        "history  = model.fit(q_train,y_train,batch_size=1500,epochs=7,\n",
        "                     validation_data=(q_val,y_val),verbose=1,callbacks=[checkpoint])"
      ],
      "execution_count": 25,
      "outputs": [
        {
          "output_type": "stream",
          "text": [
            "WARNING:tensorflow:From /usr/local/lib/python3.6/dist-packages/tensorflow/python/ops/math_ops.py:3066: to_int32 (from tensorflow.python.ops.math_ops) is deprecated and will be removed in a future version.\n",
            "Instructions for updating:\n",
            "Use tf.cast instead.\n",
            "Train on 1175509 samples, validate on 130613 samples\n",
            "Epoch 1/7\n",
            "1175509/1175509 [==============================] - 253s 215us/step - loss: 0.1302 - acc: 0.9506 - f1: 0.5103 - val_loss: 0.1086 - val_acc: 0.9583 - val_f1: 0.6014\n",
            "\n",
            "Epoch 00001: val_f1 improved from -inf to 0.60143, saving model to ./lstm_glove_emb.hdf5\n",
            "Epoch 2/7\n",
            "1175509/1175509 [==============================] - 252s 215us/step - loss: 0.1051 - acc: 0.9583 - f1: 0.6272 - val_loss: 0.1019 - val_acc: 0.9592 - val_f1: 0.6569\n",
            "\n",
            "Epoch 00002: val_f1 improved from 0.60143 to 0.65689, saving model to ./lstm_glove_emb.hdf5\n",
            "Epoch 3/7\n",
            "1175509/1175509 [==============================] - 252s 215us/step - loss: 0.0986 - acc: 0.9606 - f1: 0.6551 - val_loss: 0.0981 - val_acc: 0.9612 - val_f1: 0.6451\n",
            "\n",
            "Epoch 00003: val_f1 did not improve from 0.65689\n",
            "Epoch 4/7\n",
            "1175509/1175509 [==============================] - 253s 215us/step - loss: 0.0934 - acc: 0.9625 - f1: 0.6765 - val_loss: 0.0998 - val_acc: 0.9612 - val_f1: 0.6181\n",
            "\n",
            "Epoch 00004: val_f1 did not improve from 0.65689\n",
            "Epoch 5/7\n",
            "1175509/1175509 [==============================] - 253s 215us/step - loss: 0.0888 - acc: 0.9642 - f1: 0.6958 - val_loss: 0.0992 - val_acc: 0.9606 - val_f1: 0.6659\n",
            "\n",
            "Epoch 00005: val_f1 improved from 0.65689 to 0.66593, saving model to ./lstm_glove_emb.hdf5\n",
            "Epoch 6/7\n",
            "1175509/1175509 [==============================] - 252s 214us/step - loss: 0.0842 - acc: 0.9660 - f1: 0.7158 - val_loss: 0.0986 - val_acc: 0.9607 - val_f1: 0.6676\n",
            "\n",
            "Epoch 00006: val_f1 improved from 0.66593 to 0.66758, saving model to ./lstm_glove_emb.hdf5\n",
            "Epoch 7/7\n",
            "1175509/1175509 [==============================] - 252s 214us/step - loss: 0.0799 - acc: 0.9676 - f1: 0.7316 - val_loss: 0.1019 - val_acc: 0.9612 - val_f1: 0.6592\n",
            "\n",
            "Epoch 00007: val_f1 did not improve from 0.66758\n"
          ],
          "name": "stdout"
        }
      ]
    },
    {
      "cell_type": "code",
      "metadata": {
        "id": "r1bSJ_-gpLDJ",
        "colab_type": "code",
        "colab": {
          "base_uri": "https://localhost:8080/",
          "height": 573
        },
        "outputId": "cf30c472-e8a4-4258-f42b-7ca3751b62aa"
      },
      "source": [
        "import matplotlib.pyplot as plt\n",
        "plt.plot(history.history['f1'])\n",
        "plt.plot(history.history['val_f1'])\n",
        "plt.title('Model accuracy')\n",
        "plt.ylabel('F1')\n",
        "plt.xlabel('Epoch')\n",
        "plt.legend(['Train', 'Test'], loc='upper left')\n",
        "plt.show()\n",
        "plt.plot(history.history['loss'])\n",
        "plt.plot(history.history['val_loss'])\n",
        "plt.title('Loss')\n",
        "plt.ylabel('loss')\n",
        "plt.xlabel('Epoch')\n",
        "plt.legend(['Train', 'Test'], loc='upper left')\n",
        "plt.show()"
      ],
      "execution_count": 26,
      "outputs": [
        {
          "output_type": "display_data",
          "data": {
            "image/png": "[encoded data removed]",
            "text/plain": [
              "<Figure size 432x288 with 1 Axes>"
            ]
          },
          "metadata": {
            "tags": []
          }
        },
        {
          "output_type": "display_data",
          "data": {
            "image/png": "[encoded data removed]",
            "text/plain": [
              "<Figure size 432x288 with 1 Axes>"
            ]
          },
          "metadata": {
            "tags": []
          }
        }
      ]
    },
    {
      "cell_type": "code",
      "metadata": {
        "id": "a-HrSek1ykY9",
        "colab_type": "code",
        "colab": {}
      },
      "source": [
        "def get_model(max_len,n_words,emb_size,emb_matrix):\n",
        "        inp = Input(shape=(max_len,))\n",
        "        x = Embedding(input_dim=n_words,output_dim=emb_size, weights=[emb_matrix])(inp)\n",
        "        x = Bidirectional(CuDNNLSTM(128, return_sequences=True))(x)\n",
        "        x =  Bidirectional(CuDNNGRU(128,return_sequences=True))(x)\n",
        "        x = Conv1D(50,10,activation='relu')(x)\n",
        "        x = GlobalMaxPool1D()(x)\n",
        "        #x = Conv1D(None,20,3,activation='relu')(x)\n",
        "        #x = GlobalMaxPool1D()(x)\n",
        "        x = Dense(128,activation='relu')(x)\n",
        "        x = Dropout(0.5)(x)\n",
        "        #X = BatchNormalization(axis=1, momentum=0.99, epsilon=0.001, center=True, scale=True, \n",
        "                               #beta_initializer='zeros', gamma_initializer='ones', \n",
        "                               #moving_mean_initializer='zeros', \n",
        "                               #moving_variance_initializer='ones',\n",
        "                               #beta_regularizer=None, gamma_regularizer=None, \n",
        "                               #beta_constraint=None, gamma_constraint=None)(x)\n",
        "        x = Dense(1, activation='sigmoid')(x)\n",
        "        model = Model(inputs=inp,output=x)\n",
        "        \n",
        "        return model"
      ],
      "execution_count": 0,
      "outputs": []
    },
    {
      "cell_type": "code",
      "metadata": {
        "id": "5y-dN1GJzGsI",
        "colab_type": "code",
        "colab": {
          "base_uri": "https://localhost:8080/",
          "height": 479
        },
        "outputId": "57e8503f-eae7-4d55-be70-90d8c4f5fc09"
      },
      "source": [
        "model = get_model(max_len,n_words,emb_size,emb_matrix)\n",
        "model.summary()\n",
        "adamax= Adamax(lr=0.001, beta_1=0.9, beta_2=0.999, epsilon=None, decay=0.0001)\n",
        "model.compile(loss='binary_crossentropy', optimizer='adamax', metrics=['acc',f1])"
      ],
      "execution_count": 29,
      "outputs": [
        {
          "output_type": "stream",
          "text": [
            "_________________________________________________________________\n",
            "Layer (type)                 Output Shape              Param #   \n",
            "=================================================================\n",
            "input_3 (InputLayer)         (None, 100)               0         \n",
            "_________________________________________________________________\n",
            "embedding_3 (Embedding)      (None, 100, 300)          15000000  \n",
            "_________________________________________________________________\n",
            "bidirectional_5 (Bidirection (None, 100, 256)          440320    \n",
            "_________________________________________________________________\n",
            "bidirectional_6 (Bidirection (None, 100, 256)          296448    \n",
            "_________________________________________________________________\n",
            "conv1d_2 (Conv1D)            (None, 91, 50)            128050    \n",
            "_________________________________________________________________\n",
            "global_max_pooling1d_2 (Glob (None, 50)                0         \n",
            "_________________________________________________________________\n",
            "dense_5 (Dense)              (None, 128)               6528      \n",
            "_________________________________________________________________\n",
            "dropout_3 (Dropout)          (None, 128)               0         \n",
            "_________________________________________________________________\n",
            "dense_6 (Dense)              (None, 1)                 129       \n",
            "=================================================================\n",
            "Total params: 15,871,475\n",
            "Trainable params: 15,871,475\n",
            "Non-trainable params: 0\n",
            "_________________________________________________________________\n"
          ],
          "name": "stdout"
        },
        {
          "output_type": "stream",
          "text": [
            "/usr/local/lib/python3.6/dist-packages/ipykernel_launcher.py:19: UserWarning: Update your `Model` call to the Keras 2 API: `Model(inputs=Tensor(\"in..., outputs=Tensor(\"de...)`\n"
          ],
          "name": "stderr"
        }
      ]
    },
    {
      "cell_type": "code",
      "metadata": {
        "id": "305SZOoYzULJ",
        "colab_type": "code",
        "colab": {
          "base_uri": "https://localhost:8080/",
          "height": 649
        },
        "outputId": "bd49d759-02e4-45b5-c417-34a290548bc1"
      },
      "source": [
        "model_name = 'lstm_glove_emb'\n",
        "checkpoint = ModelCheckpoint(filepath='./{}.hdf5'.format(model_name),\n",
        "                             monitor='val_f1',mode='max',verbose=1,\n",
        "                            save_best_only=True)\n",
        "\n",
        "history  = model.fit(q_train,y_train,batch_size=1500,epochs=8,\n",
        "                     validation_data=(q_val,y_val),verbose=1,callbacks=[checkpoint])\n"
      ],
      "execution_count": 30,
      "outputs": [
        {
          "output_type": "stream",
          "text": [
            "WARNING:tensorflow:From /usr/local/lib/python3.6/dist-packages/tensorflow/python/ops/math_grad.py:102: div (from tensorflow.python.ops.math_ops) is deprecated and will be removed in a future version.\n",
            "Instructions for updating:\n",
            "Deprecated in favor of operator or tf.math.divide.\n",
            "Train on 1175509 samples, validate on 130613 samples\n",
            "Epoch 1/8\n",
            "1175509/1175509 [==============================] - 336s 286us/step - loss: 0.1219 - acc: 0.9524 - f1: 0.5499 - val_loss: 0.1050 - val_acc: 0.9584 - val_f1: 0.6326\n",
            "\n",
            "Epoch 00001: val_f1 improved from -inf to 0.63260, saving model to ./lstm_glove_emb.hdf5\n",
            "Epoch 2/8\n",
            "1175509/1175509 [==============================] - 334s 284us/step - loss: 0.1040 - acc: 0.9588 - f1: 0.6333 - val_loss: 0.1025 - val_acc: 0.9600 - val_f1: 0.6054\n",
            "\n",
            "Epoch 00002: val_f1 did not improve from 0.63260\n",
            "Epoch 3/8\n",
            "1175509/1175509 [==============================] - 334s 284us/step - loss: 0.0977 - acc: 0.9610 - f1: 0.6612 - val_loss: 0.0977 - val_acc: 0.9605 - val_f1: 0.6620\n",
            "\n",
            "Epoch 00003: val_f1 improved from 0.63260 to 0.66198, saving model to ./lstm_glove_emb.hdf5\n",
            "Epoch 4/8\n",
            "1175509/1175509 [==============================] - 333s 283us/step - loss: 0.0924 - acc: 0.9629 - f1: 0.6830 - val_loss: 0.0990 - val_acc: 0.9618 - val_f1: 0.6505\n",
            "\n",
            "Epoch 00004: val_f1 did not improve from 0.66198\n",
            "Epoch 5/8\n",
            "1175509/1175509 [==============================] - 333s 283us/step - loss: 0.0872 - acc: 0.9647 - f1: 0.7026 - val_loss: 0.1016 - val_acc: 0.9605 - val_f1: 0.6557\n",
            "\n",
            "Epoch 00005: val_f1 did not improve from 0.66198\n",
            "Epoch 6/8\n",
            "1175509/1175509 [==============================] - 333s 283us/step - loss: 0.0823 - acc: 0.9665 - f1: 0.7210 - val_loss: 0.1016 - val_acc: 0.9604 - val_f1: 0.6640\n",
            "\n",
            "Epoch 00006: val_f1 improved from 0.66198 to 0.66401, saving model to ./lstm_glove_emb.hdf5\n",
            "Epoch 7/8\n",
            "1175509/1175509 [==============================] - 333s 283us/step - loss: 0.0771 - acc: 0.9686 - f1: 0.7412 - val_loss: 0.1047 - val_acc: 0.9607 - val_f1: 0.6591\n",
            "\n",
            "Epoch 00007: val_f1 did not improve from 0.66401\n",
            "Epoch 8/8\n",
            "1175509/1175509 [==============================] - 332s 283us/step - loss: 0.0714 - acc: 0.9709 - f1: 0.7628 - val_loss: 0.1116 - val_acc: 0.9593 - val_f1: 0.6600\n",
            "\n",
            "Epoch 00008: val_f1 did not improve from 0.66401\n"
          ],
          "name": "stdout"
        }
      ]
    },
    {
      "cell_type": "code",
      "metadata": {
        "id": "Wfpk819tzgA-",
        "colab_type": "code",
        "colab": {
          "base_uri": "https://localhost:8080/",
          "height": 573
        },
        "outputId": "780cb3fd-e0c6-4097-f969-0b5b77a81509"
      },
      "source": [
        "import matplotlib.pyplot as plt\n",
        "plt.plot(history.history['f1'])\n",
        "plt.plot(history.history['val_f1'])\n",
        "plt.title('Model accuracy')\n",
        "plt.ylabel('F1')\n",
        "plt.xlabel('Epoch')\n",
        "plt.legend(['Train', 'Test'], loc='upper left')\n",
        "plt.show()\n",
        "plt.plot(history.history['loss'])\n",
        "plt.plot(history.history['val_loss'])\n",
        "plt.title('Loss')\n",
        "plt.ylabel('loss')\n",
        "plt.xlabel('Epoch')\n",
        "plt.legend(['Train', 'Test'], loc='upper left')\n",
        "plt.show()"
      ],
      "execution_count": 31,
      "outputs": [
        {
          "output_type": "display_data",
          "data": {
            "image/png": "[encoded data removed]",
            "text/plain": [
              "<Figure size 432x288 with 1 Axes>"
            ]
          },
          "metadata": {
            "tags": []
          }
        },
        {
          "output_type": "display_data",
          "data": {
            "image/png": "[encoded data removed]",
            "text/plain": [
              "<Figure size 432x288 with 1 Axes>"
            ]
          },
          "metadata": {
            "tags": []
          }
        }
      ]
    },
    {
      "cell_type": "code",
      "metadata": {
        "id": "C_GxoBQjzluj",
        "colab_type": "code",
        "colab": {}
      },
      "source": [
        ""
      ],
      "execution_count": 0,
      "outputs": []
    }
  ]
}